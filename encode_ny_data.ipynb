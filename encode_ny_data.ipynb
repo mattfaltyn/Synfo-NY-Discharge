{
 "cells": [
  {
   "cell_type": "code",
   "execution_count": 1,
   "id": "330c434a-7103-4099-9c46-0ec37df5bb64",
   "metadata": {},
   "outputs": [],
   "source": [
    "import pandas as pd\n",
    "import numpy as np\n",
    "import os\n",
    "import category_encoders as ce"
   ]
  },
  {
   "cell_type": "code",
   "execution_count": 2,
   "id": "11e98763-7f7d-4983-9f1a-8058801a44bf",
   "metadata": {},
   "outputs": [
    {
     "name": "stdout",
     "output_type": "stream",
     "text": [
      "CPU times: total: 688 ms\n",
      "Wall time: 434 ms\n"
     ]
    }
   ],
   "source": [
    "%%time \n",
    "\n",
    "df = pd.read_parquet('clean-data.parquet', engine='pyarrow')"
   ]
  },
  {
   "cell_type": "code",
   "execution_count": 3,
   "id": "610fdb93-e0df-4bac-a380-4d27ec6ee624",
   "metadata": {},
   "outputs": [
    {
     "data": {
      "text/html": [
       "<div>\n",
       "<style scoped>\n",
       "    .dataframe tbody tr th:only-of-type {\n",
       "        vertical-align: middle;\n",
       "    }\n",
       "\n",
       "    .dataframe tbody tr th {\n",
       "        vertical-align: top;\n",
       "    }\n",
       "\n",
       "    .dataframe thead th {\n",
       "        text-align: right;\n",
       "    }\n",
       "</style>\n",
       "<table border=\"1\" class=\"dataframe\">\n",
       "  <thead>\n",
       "    <tr style=\"text-align: right;\">\n",
       "      <th></th>\n",
       "      <th>Hospital Service Area</th>\n",
       "      <th>Hospital County</th>\n",
       "      <th>Operating Certificate Number</th>\n",
       "      <th>Age Group</th>\n",
       "      <th>Gender</th>\n",
       "      <th>Race</th>\n",
       "      <th>Ethnicity</th>\n",
       "      <th>Length of Stay</th>\n",
       "      <th>Type of Admission</th>\n",
       "      <th>Patient Disposition</th>\n",
       "      <th>CCSR Diagnosis Code</th>\n",
       "      <th>CCSR Procedure Code</th>\n",
       "      <th>APR Severity of Illness Code</th>\n",
       "      <th>APR Risk of Mortality</th>\n",
       "      <th>Payment Typology 1</th>\n",
       "      <th>Total Charges</th>\n",
       "      <th>Total Costs</th>\n",
       "    </tr>\n",
       "  </thead>\n",
       "  <tbody>\n",
       "    <tr>\n",
       "      <th>0</th>\n",
       "      <td>New York City</td>\n",
       "      <td>Bronx</td>\n",
       "      <td>7000014.0</td>\n",
       "      <td>0 to 17</td>\n",
       "      <td>M</td>\n",
       "      <td>White</td>\n",
       "      <td>Not Span/Hispanic</td>\n",
       "      <td>3</td>\n",
       "      <td>Emergency</td>\n",
       "      <td>Home or Self Care</td>\n",
       "      <td>A78</td>\n",
       "      <td>A030</td>\n",
       "      <td>2</td>\n",
       "      <td>Minor</td>\n",
       "      <td>Self-Pay</td>\n",
       "      <td>13697.82</td>\n",
       "      <td>3238.19</td>\n",
       "    </tr>\n",
       "    <tr>\n",
       "      <th>1</th>\n",
       "      <td>New York City</td>\n",
       "      <td>Kings</td>\n",
       "      <td>7001017.0</td>\n",
       "      <td>0 to 17</td>\n",
       "      <td>M</td>\n",
       "      <td>White</td>\n",
       "      <td>Not Span/Hispanic</td>\n",
       "      <td>2</td>\n",
       "      <td>Newborn</td>\n",
       "      <td>Home or Self Care</td>\n",
       "      <td>D250</td>\n",
       "      <td>D230</td>\n",
       "      <td>3</td>\n",
       "      <td>Minor</td>\n",
       "      <td>Insurance Company</td>\n",
       "      <td>7271.95</td>\n",
       "      <td>3856.94</td>\n",
       "    </tr>\n",
       "    <tr>\n",
       "      <th>2</th>\n",
       "      <td>New York City</td>\n",
       "      <td>Manhattan</td>\n",
       "      <td>7002020.0</td>\n",
       "      <td>0 to 17</td>\n",
       "      <td>M</td>\n",
       "      <td>White</td>\n",
       "      <td>Not Span/Hispanic</td>\n",
       "      <td>1</td>\n",
       "      <td>Emergency</td>\n",
       "      <td>Home or Self Care</td>\n",
       "      <td>C228</td>\n",
       "      <td>D020</td>\n",
       "      <td>1</td>\n",
       "      <td>Moderate</td>\n",
       "      <td>Blue Cross</td>\n",
       "      <td>6253.88</td>\n",
       "      <td>2923.55</td>\n",
       "    </tr>\n",
       "    <tr>\n",
       "      <th>3</th>\n",
       "      <td>New York City</td>\n",
       "      <td>Manhattan</td>\n",
       "      <td>7002002.0</td>\n",
       "      <td>0 to 17</td>\n",
       "      <td>M</td>\n",
       "      <td>White</td>\n",
       "      <td>Not Span/Hispanic</td>\n",
       "      <td>3</td>\n",
       "      <td>Emergency</td>\n",
       "      <td>Home or Self Care</td>\n",
       "      <td>A78</td>\n",
       "      <td>D020</td>\n",
       "      <td>3</td>\n",
       "      <td>Minor</td>\n",
       "      <td>Insurance Company</td>\n",
       "      <td>16128.93</td>\n",
       "      <td>8410.92</td>\n",
       "    </tr>\n",
       "    <tr>\n",
       "      <th>4</th>\n",
       "      <td>New York City</td>\n",
       "      <td>Manhattan</td>\n",
       "      <td>7002017.0</td>\n",
       "      <td>0 to 17</td>\n",
       "      <td>M</td>\n",
       "      <td>White</td>\n",
       "      <td>Not Span/Hispanic</td>\n",
       "      <td>4</td>\n",
       "      <td>Newborn</td>\n",
       "      <td>Home or Self Care</td>\n",
       "      <td>D250</td>\n",
       "      <td>D020</td>\n",
       "      <td>1</td>\n",
       "      <td>Minor</td>\n",
       "      <td>Insurance Company</td>\n",
       "      <td>12059.28</td>\n",
       "      <td>1362.99</td>\n",
       "    </tr>\n",
       "    <tr>\n",
       "      <th>...</th>\n",
       "      <td>...</td>\n",
       "      <td>...</td>\n",
       "      <td>...</td>\n",
       "      <td>...</td>\n",
       "      <td>...</td>\n",
       "      <td>...</td>\n",
       "      <td>...</td>\n",
       "      <td>...</td>\n",
       "      <td>...</td>\n",
       "      <td>...</td>\n",
       "      <td>...</td>\n",
       "      <td>...</td>\n",
       "      <td>...</td>\n",
       "      <td>...</td>\n",
       "      <td>...</td>\n",
       "      <td>...</td>\n",
       "      <td>...</td>\n",
       "    </tr>\n",
       "    <tr>\n",
       "      <th>743774</th>\n",
       "      <td>Long Island</td>\n",
       "      <td>Nassau</td>\n",
       "      <td>2953000.0</td>\n",
       "      <td>70 or Older</td>\n",
       "      <td>F</td>\n",
       "      <td>Other Race</td>\n",
       "      <td>Not Span/Hispanic</td>\n",
       "      <td>3</td>\n",
       "      <td>Emergency</td>\n",
       "      <td>Home or Self Care</td>\n",
       "      <td>C183</td>\n",
       "      <td>B150</td>\n",
       "      <td>2</td>\n",
       "      <td>Moderate</td>\n",
       "      <td>Medicare</td>\n",
       "      <td>26075.00</td>\n",
       "      <td>7190.31</td>\n",
       "    </tr>\n",
       "    <tr>\n",
       "      <th>743775</th>\n",
       "      <td>Long Island</td>\n",
       "      <td>Nassau</td>\n",
       "      <td>2953000.0</td>\n",
       "      <td>70 or Older</td>\n",
       "      <td>F</td>\n",
       "      <td>Other Race</td>\n",
       "      <td>Not Span/Hispanic</td>\n",
       "      <td>10</td>\n",
       "      <td>Emergency</td>\n",
       "      <td>Home w/ Home Health Services</td>\n",
       "      <td>B830</td>\n",
       "      <td>B000</td>\n",
       "      <td>3</td>\n",
       "      <td>Major</td>\n",
       "      <td>Medicare</td>\n",
       "      <td>69555.50</td>\n",
       "      <td>20170.58</td>\n",
       "    </tr>\n",
       "    <tr>\n",
       "      <th>743776</th>\n",
       "      <td>Long Island</td>\n",
       "      <td>Suffolk</td>\n",
       "      <td>5123000.0</td>\n",
       "      <td>70 or Older</td>\n",
       "      <td>F</td>\n",
       "      <td>Other Race</td>\n",
       "      <td>Unknown</td>\n",
       "      <td>7</td>\n",
       "      <td>Emergency</td>\n",
       "      <td>Home or Self Care</td>\n",
       "      <td>C170</td>\n",
       "      <td>B509</td>\n",
       "      <td>2</td>\n",
       "      <td>Minor</td>\n",
       "      <td>Medicare</td>\n",
       "      <td>76299.60</td>\n",
       "      <td>11852.36</td>\n",
       "    </tr>\n",
       "    <tr>\n",
       "      <th>743777</th>\n",
       "      <td>Long Island</td>\n",
       "      <td>Suffolk</td>\n",
       "      <td>5123000.0</td>\n",
       "      <td>70 or Older</td>\n",
       "      <td>F</td>\n",
       "      <td>Other Race</td>\n",
       "      <td>Not Span/Hispanic</td>\n",
       "      <td>3</td>\n",
       "      <td>Emergency</td>\n",
       "      <td>Home or Self Care</td>\n",
       "      <td>E060</td>\n",
       "      <td>C7250</td>\n",
       "      <td>1</td>\n",
       "      <td>Minor</td>\n",
       "      <td>Medicare</td>\n",
       "      <td>24812.95</td>\n",
       "      <td>4361.88</td>\n",
       "    </tr>\n",
       "    <tr>\n",
       "      <th>743778</th>\n",
       "      <td>Long Island</td>\n",
       "      <td>Suffolk</td>\n",
       "      <td>5149001.0</td>\n",
       "      <td>70 or Older</td>\n",
       "      <td>F</td>\n",
       "      <td>Other Race</td>\n",
       "      <td>Not Span/Hispanic</td>\n",
       "      <td>8</td>\n",
       "      <td>Elective</td>\n",
       "      <td>Home or Self Care</td>\n",
       "      <td>E320</td>\n",
       "      <td>D140</td>\n",
       "      <td>1</td>\n",
       "      <td>Minor</td>\n",
       "      <td>Medicare</td>\n",
       "      <td>30703.40</td>\n",
       "      <td>9735.07</td>\n",
       "    </tr>\n",
       "  </tbody>\n",
       "</table>\n",
       "<p>743779 rows × 17 columns</p>\n",
       "</div>"
      ],
      "text/plain": [
       "       Hospital Service Area Hospital County  Operating Certificate Number  \\\n",
       "0              New York City           Bronx                     7000014.0   \n",
       "1              New York City           Kings                     7001017.0   \n",
       "2              New York City       Manhattan                     7002020.0   \n",
       "3              New York City       Manhattan                     7002002.0   \n",
       "4              New York City       Manhattan                     7002017.0   \n",
       "...                      ...             ...                           ...   \n",
       "743774           Long Island          Nassau                     2953000.0   \n",
       "743775           Long Island          Nassau                     2953000.0   \n",
       "743776           Long Island         Suffolk                     5123000.0   \n",
       "743777           Long Island         Suffolk                     5123000.0   \n",
       "743778           Long Island         Suffolk                     5149001.0   \n",
       "\n",
       "          Age Group Gender        Race          Ethnicity Length of Stay  \\\n",
       "0           0 to 17      M       White  Not Span/Hispanic              3   \n",
       "1           0 to 17      M       White  Not Span/Hispanic              2   \n",
       "2           0 to 17      M       White  Not Span/Hispanic              1   \n",
       "3           0 to 17      M       White  Not Span/Hispanic              3   \n",
       "4           0 to 17      M       White  Not Span/Hispanic              4   \n",
       "...             ...    ...         ...                ...            ...   \n",
       "743774  70 or Older      F  Other Race  Not Span/Hispanic              3   \n",
       "743775  70 or Older      F  Other Race  Not Span/Hispanic             10   \n",
       "743776  70 or Older      F  Other Race            Unknown              7   \n",
       "743777  70 or Older      F  Other Race  Not Span/Hispanic              3   \n",
       "743778  70 or Older      F  Other Race  Not Span/Hispanic              8   \n",
       "\n",
       "       Type of Admission           Patient Disposition CCSR Diagnosis Code  \\\n",
       "0              Emergency             Home or Self Care                 A78   \n",
       "1                Newborn             Home or Self Care                D250   \n",
       "2              Emergency             Home or Self Care                C228   \n",
       "3              Emergency             Home or Self Care                 A78   \n",
       "4                Newborn             Home or Self Care                D250   \n",
       "...                  ...                           ...                 ...   \n",
       "743774         Emergency             Home or Self Care                C183   \n",
       "743775         Emergency  Home w/ Home Health Services                B830   \n",
       "743776         Emergency             Home or Self Care                C170   \n",
       "743777         Emergency             Home or Self Care                E060   \n",
       "743778          Elective             Home or Self Care                E320   \n",
       "\n",
       "       CCSR Procedure Code  APR Severity of Illness Code  \\\n",
       "0                     A030                             2   \n",
       "1                     D230                             3   \n",
       "2                     D020                             1   \n",
       "3                     D020                             3   \n",
       "4                     D020                             1   \n",
       "...                    ...                           ...   \n",
       "743774                B150                             2   \n",
       "743775                B000                             3   \n",
       "743776                B509                             2   \n",
       "743777               C7250                             1   \n",
       "743778                D140                             1   \n",
       "\n",
       "       APR Risk of Mortality Payment Typology 1  Total Charges  Total Costs  \n",
       "0                      Minor           Self-Pay       13697.82      3238.19  \n",
       "1                      Minor  Insurance Company        7271.95      3856.94  \n",
       "2                   Moderate         Blue Cross        6253.88      2923.55  \n",
       "3                      Minor  Insurance Company       16128.93      8410.92  \n",
       "4                      Minor  Insurance Company       12059.28      1362.99  \n",
       "...                      ...                ...            ...          ...  \n",
       "743774              Moderate           Medicare       26075.00      7190.31  \n",
       "743775                 Major           Medicare       69555.50     20170.58  \n",
       "743776                 Minor           Medicare       76299.60     11852.36  \n",
       "743777                 Minor           Medicare       24812.95      4361.88  \n",
       "743778                 Minor           Medicare       30703.40      9735.07  \n",
       "\n",
       "[743779 rows x 17 columns]"
      ]
     },
     "execution_count": 3,
     "metadata": {},
     "output_type": "execute_result"
    }
   ],
   "source": [
    "df = df.reset_index(drop=True)\n",
    "df"
   ]
  },
  {
   "cell_type": "markdown",
   "id": "71a80cb4-d3df-4e83-8f9c-3a2ff0643804",
   "metadata": {
    "tags": []
   },
   "source": [
    "# Encoding Scheme\n",
    "\n",
    "## Hospital Information\n",
    "\n",
    "- **Operating Certificate Number - Hamiltonian path (see operating-geo.csv)** \n",
    "\n",
    "- **Hospital Service Area - geographic Hamiltonian path (pasted below)**\n",
    "  \n",
    "```python\n",
    "service_area_mapping = {\n",
    "    'Western NY': 1,\n",
    "    'Finger Lakes': 2,\n",
    "    'Southern Tier': 3,\n",
    "    'Central NY': 4,\n",
    "    'Capital/Adiron': 5,\n",
    "    'Hudson Valley': 6,\n",
    "    'New York City': 7,\n",
    "    'Long Island': 8\n",
    "}\n",
    "```\n",
    "\n",
    "- **Hospital County - geographic Hamiltonian path (pasted below)**\n",
    "       \n",
    "```python\n",
    "county_mapping = {\n",
    "    'Chautauqua': 1,\n",
    "    'Cattaraugus': 2,\n",
    "    'Erie': 3,\n",
    "    'Niagara': 4,\n",
    "    'Orleans': 5,\n",
    "    'Genesee': 6,\n",
    "    'Wyoming': 7,\n",
    "    'Allegany': 8,\n",
    "    'Monroe': 9,\n",
    "    'Wayne': 10,\n",
    "    'Livingston': 11,\n",
    "    'Ontario': 12,\n",
    "    'Yates': 13,\n",
    "    'Steuben': 14,\n",
    "    'Schuyler': 15,\n",
    "    'Chemung': 16,\n",
    "    'Tompkins': 17,\n",
    "    'Cortland': 18,\n",
    "    'Cayuga': 19,\n",
    "    'Onondaga': 20,\n",
    "    'Oswego': 21,\n",
    "    'Jefferson': 22,\n",
    "    'St Lawrence': 23,\n",
    "    'Lewis': 24,\n",
    "    'Franklin': 25,\n",
    "    'Clinton': 26,\n",
    "    'Essex': 27,\n",
    "    'Warren': 28,\n",
    "    'Saratoga': 29,\n",
    "    'Schenectady': 30,\n",
    "    'Albany': 31,\n",
    "    'Rensselaer': 32,\n",
    "    'Montgomery': 33,\n",
    "    'Fulton': 34,\n",
    "    'Schoharie': 35,\n",
    "    'Herkimer': 36,\n",
    "    'Oneida': 37,\n",
    "    'Madison': 38,\n",
    "    'Chenango': 39,\n",
    "    'Broome': 40,\n",
    "    'Otsego': 41,\n",
    "    'Delaware': 42,\n",
    "    'Sullivan': 43,\n",
    "    'Orange': 44,\n",
    "    'Putnam': 45,\n",
    "    'Dutchess': 46,\n",
    "    'Columbia': 47,\n",
    "    'Ulster': 48,\n",
    "    'Rockland': 49,\n",
    "    'Westchester': 50,\n",
    "    'Bronx': 51,\n",
    "    'Manhattan': 52,\n",
    "    'Kings': 53,\n",
    "    'Queens': 54,\n",
    "    'Richmond': 55,\n",
    "    'Nassau': 56,\n",
    "    'Suffolk': 57\n",
    "}\n",
    "```\n",
    "\n",
    "## Patient Demographics\n",
    "\n",
    "- **Age Group - ordinal**\n",
    "\n",
    "```python \n",
    "age_group_mapping = {\n",
    "    '0 to 17': 0,\n",
    "    '18 to 29': 1,\n",
    "    '30 to 49': 2,\n",
    "    '50 to 69': 3,\n",
    "    '70 or Older': 4\n",
    "}\n",
    "```\n",
    "\n",
    "- **Gender - one-hot**\n",
    "- **Race - one-hot**\n",
    "- **Ethnicity - one-hot**\n",
    "\n",
    "## Hospital Stay\n",
    "\n",
    "- **Length of Stay - ordinal (120+ string to 120 int)**\n",
    "- **Type of Admission - one-hot (dropping 'Not Available' column)**\n",
    "- **Patient Disposition - ordinal in the following order:**\n",
    "\n",
    "```python \n",
    "patient_disposition_mapping = {\n",
    "    'Home or Self Care': 1,\n",
    "    'Admitted from Ambulatory Surgery': 2,\n",
    "    'Home w/ Home Health Services': 3,\n",
    "    'Hospice - Home': 4,\n",
    "    'Facility w/ Custodial/Supportive Care': 5,\n",
    "    'Skilled Nursing Home': 6,\n",
    "    'Medicaid Cert Nursing Facility': 7,\n",
    "    'Medicare Cert Long Term Care Hospital': 8,\n",
    "    'Inpatient Rehabilitation Facility': 9,\n",
    "    'Critical Access Hospital': 10,\n",
    "    'Hosp Basd Medicare Approved Swing Bed': 11,\n",
    "    \"Cancer Center or Children's Hospital\": 12,\n",
    "    'Federal Health Care Facility': 13,\n",
    "    'Short-term Hospital': 14,\n",
    "    'Psychiatric Hospital or Unit of Hosp': 15,\n",
    "    'Another Type Not Listed': 16,\n",
    "    'Left Against Medical Advice': 17,\n",
    "    'Court/Law Enforcement': 18,\n",
    "    'Hospice - Medical Facility': 19,\n",
    "    'Expired': 20\n",
    "}\n",
    "```\n",
    "\n",
    "## Medical Information\n",
    "\n",
    "- **CCSR Diagnosis Code - alphabetic sorted ordinal**\n",
    "- **CCSR Procedure Code - alphabetic sorted ordinal**\n",
    "\n",
    "## Severity & Risk\n",
    "\n",
    "- **APR Severity of Illness Code - one-hot (drop 0)**\n",
    "- **APR Risk of Mortality - one-hot**\n",
    "\n",
    "## Financial Information\n",
    "\n",
    "- **Payment Typology 1 - one-hot**\n",
    "- **Total Charges - already numeric**\n",
    "- **Total Costs - already numeric**"
   ]
  },
  {
   "cell_type": "code",
   "execution_count": 4,
   "id": "a9786af3-8f87-402b-a7e2-cf7faab46cc3",
   "metadata": {},
   "outputs": [
    {
     "name": "stderr",
     "output_type": "stream",
     "text": [
      "C:\\Users\\Windows\\AppData\\Local\\Temp\\ipykernel_1100\\377971296.py:35: FutureWarning: The behavior of DataFrame concatenation with empty or all-NA entries is deprecated. In a future version, this will no longer exclude empty or all-NA columns when determining the result dtypes. To retain the old behavior, exclude the relevant entries before the concat operation.\n",
      "  final_df = pd.concat([final_df, temp_df])\n"
     ]
    }
   ],
   "source": [
    "# Define the categories and their respective columns\n",
    "categories = {\n",
    "    'Hospital Information': ['Operating Certificate Number', 'Hospital Service Area', 'Hospital County', 'Facility Name'],\n",
    "    'Patient Demographics': ['Age Group', 'Gender', 'Race', 'Ethnicity'],\n",
    "    'Hospital Stay': ['Length of Stay', 'Type of Admission', 'Patient Disposition'],\n",
    "    'Medical Information': ['CCSR Diagnosis Code', 'CCSR Procedure Code'],\n",
    "    'Severity & Risk': ['APR Severity of Illness Code', 'APR Risk of Mortality'],\n",
    "    'Financial Information': ['Payment Typology 1', 'Total Charges', 'Total Costs']\n",
    "}\n",
    "\n",
    "# Initialize an empty DataFrame to hold the final results\n",
    "final_df = pd.DataFrame(columns=['Category', 'Year', 'Unique Values', 'Number of Unique Values', 'Percentage of Null Values'])\n",
    "\n",
    "# Define the year - you can change this as needed\n",
    "year = '2009'\n",
    "\n",
    "# Iterate over each category and column\n",
    "for category, columns in categories.items():\n",
    "    for col in columns:\n",
    "        if col in df.columns:\n",
    "            unique_values = df[col].unique()\n",
    "            num_unique_values = df[col].nunique()\n",
    "            percent_null_values = (df[col].isna().sum() / len(df)) * 100\n",
    "\n",
    "            # Create a temporary DataFrame to hold this information\n",
    "            temp_df = pd.DataFrame({\n",
    "                'Category': [category],\n",
    "                'Year': [year],\n",
    "                'Unique Values': [unique_values],\n",
    "                'Number of Unique Values': [num_unique_values],\n",
    "                'Percentage of Null Values': [percent_null_values]\n",
    "            }, index=[col])  # Set the index to the column name\n",
    "\n",
    "            # Append this information to the final DataFrame\n",
    "            final_df = pd.concat([final_df, temp_df])\n",
    "\n",
    "# Create a multi-index DataFrame from the final_df\n",
    "final_df.reset_index(inplace=True)\n",
    "final_df.set_index(['index', 'Year'], inplace=True)  # Multi-index using the column name and year\n",
    "final_df.sort_index(inplace=True)\n",
    "\n",
    "# final_df is your final DataFrame with the desired format"
   ]
  },
  {
   "cell_type": "code",
   "execution_count": 5,
   "id": "ed34c5ac-2d85-4531-b294-72501449dd8c",
   "metadata": {},
   "outputs": [],
   "source": [
    "def display_by_category(final_df, category):\n",
    "    \"\"\"\n",
    "    Display a filtered version of final_df based on the given category, omitting the 'Category' column.\n",
    "    \n",
    "    Parameters:\n",
    "    - final_df: DataFrame, the multi-index DataFrame containing the aggregate info\n",
    "    - category: str, the category to filter by\n",
    "    \"\"\"\n",
    "    # Filter the DataFrame based on the 'Category' column\n",
    "    filtered_df = final_df[final_df['Category'] == category]\n",
    "    \n",
    "    # Drop the 'Category' column\n",
    "    filtered_df = filtered_df.drop(columns=['Category'])\n",
    "    \n",
    "    return filtered_df"
   ]
  },
  {
   "cell_type": "code",
   "execution_count": 6,
   "id": "68bc8775-ca3b-42c1-a331-f1191d32465a",
   "metadata": {},
   "outputs": [],
   "source": [
    "def find_unique(df, column_name):\n",
    "    \"\"\"Finds unique values for a specified column from a dataframe.\"\"\"\n",
    "    # Find unique values in the given column\n",
    "    unique_values = df[column_name].unique().tolist()\n",
    "    \n",
    "    return unique_values"
   ]
  },
  {
   "cell_type": "markdown",
   "id": "4ea10500-14a3-44c2-b38e-f29e9eb74c68",
   "metadata": {},
   "source": [
    "## Hospital Information"
   ]
  },
  {
   "cell_type": "code",
   "execution_count": 7,
   "id": "f95e0c70-3671-4c01-b29d-94b6010f1ccf",
   "metadata": {},
   "outputs": [
    {
     "name": "stdout",
     "output_type": "stream",
     "text": [
      "Hospital Information:\n"
     ]
    },
    {
     "data": {
      "text/html": [
       "<div>\n",
       "<style scoped>\n",
       "    .dataframe tbody tr th:only-of-type {\n",
       "        vertical-align: middle;\n",
       "    }\n",
       "\n",
       "    .dataframe tbody tr th {\n",
       "        vertical-align: top;\n",
       "    }\n",
       "\n",
       "    .dataframe thead th {\n",
       "        text-align: right;\n",
       "    }\n",
       "</style>\n",
       "<table border=\"1\" class=\"dataframe\">\n",
       "  <thead>\n",
       "    <tr style=\"text-align: right;\">\n",
       "      <th></th>\n",
       "      <th></th>\n",
       "      <th>Unique Values</th>\n",
       "      <th>Number of Unique Values</th>\n",
       "      <th>Percentage of Null Values</th>\n",
       "    </tr>\n",
       "    <tr>\n",
       "      <th>index</th>\n",
       "      <th>Year</th>\n",
       "      <th></th>\n",
       "      <th></th>\n",
       "      <th></th>\n",
       "    </tr>\n",
       "  </thead>\n",
       "  <tbody>\n",
       "    <tr>\n",
       "      <th>Hospital County</th>\n",
       "      <th>2009</th>\n",
       "      <td>[Bronx, Kings, Manhattan, Westchester, Queens,...</td>\n",
       "      <td>57</td>\n",
       "      <td>0.0</td>\n",
       "    </tr>\n",
       "    <tr>\n",
       "      <th>Hospital Service Area</th>\n",
       "      <th>2009</th>\n",
       "      <td>[New York City, Hudson Valley, Finger Lakes, L...</td>\n",
       "      <td>8</td>\n",
       "      <td>0.0</td>\n",
       "    </tr>\n",
       "    <tr>\n",
       "      <th>Operating Certificate Number</th>\n",
       "      <th>2009</th>\n",
       "      <td>[7000014.0, 7001017.0, 7002020.0, 7002002.0, 7...</td>\n",
       "      <td>183</td>\n",
       "      <td>0.0</td>\n",
       "    </tr>\n",
       "  </tbody>\n",
       "</table>\n",
       "</div>"
      ],
      "text/plain": [
       "                                                                       Unique Values  \\\n",
       "index                        Year                                                      \n",
       "Hospital County              2009  [Bronx, Kings, Manhattan, Westchester, Queens,...   \n",
       "Hospital Service Area        2009  [New York City, Hudson Valley, Finger Lakes, L...   \n",
       "Operating Certificate Number 2009  [7000014.0, 7001017.0, 7002020.0, 7002002.0, 7...   \n",
       "\n",
       "                                  Number of Unique Values  \\\n",
       "index                        Year                           \n",
       "Hospital County              2009                      57   \n",
       "Hospital Service Area        2009                       8   \n",
       "Operating Certificate Number 2009                     183   \n",
       "\n",
       "                                   Percentage of Null Values  \n",
       "index                        Year                             \n",
       "Hospital County              2009                        0.0  \n",
       "Hospital Service Area        2009                        0.0  \n",
       "Operating Certificate Number 2009                        0.0  "
      ]
     },
     "execution_count": 7,
     "metadata": {},
     "output_type": "execute_result"
    }
   ],
   "source": [
    "hospital_info_df = display_by_category(final_df, 'Hospital Information')\n",
    "print(\"Hospital Information:\")\n",
    "hospital_info_df"
   ]
  },
  {
   "cell_type": "markdown",
   "id": "95476d46-7b70-4382-bcbf-1308bffd8a9a",
   "metadata": {
    "jp-MarkdownHeadingCollapsed": true
   },
   "source": [
    "### Hamiltonian path on 'Operating Certificate Number' (Optional)"
   ]
  },
  {
   "cell_type": "raw",
   "id": "2c0cd85c-678b-4d86-8123-872776d91577",
   "metadata": {},
   "source": [
    "unique_certificate_numbers = find_unique(df, \"Operating Certificate Number\")\n",
    "print(f'{len(unique_certificate_numbers)} unique \"Operating Certificate Number\" values')"
   ]
  },
  {
   "cell_type": "raw",
   "id": "af7257b7-dc61-4949-9041-ab2eb11703a6",
   "metadata": {},
   "source": [
    "# Reading the Hamiltonian path Operating Certificate Number CSV\n",
    "op_num_df = pd.read_csv(\"geo-updated.csv\", header=None)\n",
    "\n",
    "# Resetting the column name and appending the first value back into DataFrame\n",
    "op_num_df.columns = [0]\n",
    "op_num_df.loc[-1] = 632000  # adding a row with the original first value\n",
    "op_num_df.index = op_num_df.index + 1  # shifting index\n",
    "op_num_df = op_num_df.sort_index()  # sorting by index\n",
    "op_num_df"
   ]
  },
  {
   "cell_type": "raw",
   "id": "578b27c7-2f59-40c8-90db-8f8106f4d4ed",
   "metadata": {},
   "source": [
    "# Hamiltonian path mapping:\n",
    "op_num_mapping = {num: idx+1 for idx, num in enumerate(op_num_df[0])}\n",
    "\n",
    "def encode_op_num(df, mapping):\n",
    "    if 'Operating Certificate Number' in df.columns:\n",
    "        df['Operating Certificate Number'] = df['Operating Certificate Number'].map(mapping)\n",
    "\n",
    "        # Check for NaN values and issue a warning if any are found\n",
    "        if df['Operating Certificate Number'].isna().any():\n",
    "            print(\"Warning: NaN values found in the dataframe, not all entries could be mapped.\")\n",
    "    return df\n",
    "\n",
    "# Usage\n",
    "df = encode_op_num(df, op_num_mapping)"
   ]
  },
  {
   "cell_type": "markdown",
   "id": "9f44afe3-2f78-479e-a340-a2f0687f278c",
   "metadata": {},
   "source": [
    "### Hamiltonian path on 'Hospital Service Area' (Optional)"
   ]
  },
  {
   "cell_type": "raw",
   "id": "3253afd7-1ad7-4125-a75c-4448614c3c14",
   "metadata": {},
   "source": [
    "unique_service_areas = find_unique(df, \"Hospital Service Area\")\n",
    "print(f'{len(unique_service_areas)} unique \"Hospital Service Area\" values')\n",
    "unique_service_areas"
   ]
  },
  {
   "cell_type": "raw",
   "id": "51431a22-83fc-414f-961d-9d54150873a9",
   "metadata": {},
   "source": [
    "# Hamiltonian path mapping for 'Hospital Service Area'\n",
    "service_area_mapping = {\n",
    "    'Western NY': 1,\n",
    "    'Finger Lakes': 2,\n",
    "    'Southern Tier': 3,\n",
    "    'Central NY': 4,\n",
    "    'Capital/Adiron': 5,\n",
    "    'Hudson Valley': 6,\n",
    "    'New York City': 7,\n",
    "    'Long Island': 8\n",
    "}\n",
    "\n",
    "# Function to encode 'Hospital Service Area' in the dataframe\n",
    "def encode_service_area(df, mapping):\n",
    "    if 'Hospital Service Area' in df.columns:\n",
    "        # Apply the mapping\n",
    "        df['Hospital Service Area'] = df['Hospital Service Area'].map(mapping)\n",
    "        \n",
    "        # Check for NaN values and issue a warning if any are found\n",
    "        if df['Hospital Service Area'].isna().any():\n",
    "            print(\"Warning: NaN values found in the dataframe, not all entries could be mapped.\")\n",
    "    return df\n",
    "\n",
    "# Usage\n",
    "df = encode_service_area(df, service_area_mapping)"
   ]
  },
  {
   "cell_type": "markdown",
   "id": "ce53d614-6ae4-4fcc-be67-66782bfd9aa1",
   "metadata": {},
   "source": [
    "### Hamiltonian path on 'Hospital County' (Optional)"
   ]
  },
  {
   "cell_type": "raw",
   "id": "9c026ae8-176e-43ec-9203-435336f685f8",
   "metadata": {},
   "source": [
    "unique_hospital_countys = find_unique(df, \"Hospital County\")\n",
    "print(f'{len(unique_hospital_countys)} unique \"Hospital County\" values')\n",
    "#unique_hospital_countys"
   ]
  },
  {
   "cell_type": "raw",
   "id": "7b367bc9-baf2-4a6a-a974-aebc418cd408",
   "metadata": {},
   "source": [
    "# Hamiltonian path mapping for 'Hospital County'\n",
    "county_mapping = {\n",
    "    'Chautauqua': 1,\n",
    "    'Cattaraugus': 2,\n",
    "    'Erie': 3,\n",
    "    'Niagara': 4,\n",
    "    'Orleans': 5,\n",
    "    'Genesee': 6,\n",
    "    'Wyoming': 7,\n",
    "    'Allegany': 8,\n",
    "    'Monroe': 9,\n",
    "    'Wayne': 10,\n",
    "    'Livingston': 11,\n",
    "    'Ontario': 12,\n",
    "    'Yates': 13,\n",
    "    'Steuben': 14,\n",
    "    'Schuyler': 15,\n",
    "    'Chemung': 16,\n",
    "    'Tompkins': 17,\n",
    "    'Cortland': 18,\n",
    "    'Cayuga': 19,\n",
    "    'Onondaga': 20,\n",
    "    'Oswego': 21,\n",
    "    'Jefferson': 22,\n",
    "    'St Lawrence': 23,\n",
    "    'Lewis': 24,\n",
    "    'Franklin': 25,\n",
    "    'Clinton': 26,\n",
    "    'Essex': 27,\n",
    "    'Warren': 28,\n",
    "    'Saratoga': 29,\n",
    "    'Schenectady': 30,\n",
    "    'Albany': 31,\n",
    "    'Rensselaer': 32,\n",
    "    'Montgomery': 33,\n",
    "    'Fulton': 34,\n",
    "    'Schoharie': 35,\n",
    "    'Herkimer': 36,\n",
    "    'Oneida': 37,\n",
    "    'Madison': 38,\n",
    "    'Chenango': 39,\n",
    "    'Broome': 40,\n",
    "    'Otsego': 41,\n",
    "    'Delaware': 42,\n",
    "    'Sullivan': 43,\n",
    "    'Orange': 44,\n",
    "    'Putnam': 45,\n",
    "    'Dutchess': 46,\n",
    "    'Columbia': 47,\n",
    "    'Ulster': 48,\n",
    "    'Rockland': 49,\n",
    "    'Westchester': 50,\n",
    "    'Bronx': 51,\n",
    "    'Manhattan': 52,\n",
    "    'Kings': 53,\n",
    "    'Queens': 54,\n",
    "    'Richmond': 55,\n",
    "    'Nassau': 56,\n",
    "    'Suffolk': 57\n",
    "}\n",
    "\n",
    "# Function to encode 'Hospital County' in the dataframe\n",
    "def encode_hospital_county(df, mapping):\n",
    "    if 'Hospital County' in df.columns:\n",
    "        # Apply the mapping\n",
    "        df['Hospital County'] = df['Hospital County'].map(mapping)\n",
    "        \n",
    "        # Check for NaN values and issue a warning if any are found\n",
    "        if df['Hospital County'].isna().any():\n",
    "            print(\"Warning: NaN values found in the dataframe, not all entries could be mapped.\")\n",
    "            \n",
    "    return df\n",
    "\n",
    "# Usage\n",
    "df = encode_hospital_county(df, county_mapping)\n"
   ]
  },
  {
   "cell_type": "markdown",
   "id": "799cd135-626c-414a-9dd8-77e51fae5709",
   "metadata": {},
   "source": [
    "## Patient Demographics"
   ]
  },
  {
   "cell_type": "markdown",
   "id": "c4c61576-2257-4e54-8264-c834ea191a8a",
   "metadata": {},
   "source": [
    "### Ordinal Encoding on Age Group"
   ]
  },
  {
   "cell_type": "code",
   "execution_count": 8,
   "id": "630a8feb-ca25-45be-a24d-68fc4d07e38e",
   "metadata": {},
   "outputs": [
    {
     "name": "stdout",
     "output_type": "stream",
     "text": [
      "5 unique \"Age Group\" values\n"
     ]
    },
    {
     "data": {
      "text/plain": [
       "['0 to 17', '18 to 29', '30 to 49', '50 to 69', '70 or Older']"
      ]
     },
     "execution_count": 8,
     "metadata": {},
     "output_type": "execute_result"
    }
   ],
   "source": [
    "unique_age_groups = find_unique(df, \"Age Group\")\n",
    "print(f'{len(unique_age_groups)} unique \"Age Group\" values')\n",
    "unique_age_groups"
   ]
  },
  {
   "cell_type": "code",
   "execution_count": 9,
   "id": "025cd5aa-5f29-4eb0-bd7c-9451fb45101d",
   "metadata": {},
   "outputs": [],
   "source": [
    "# Define ordinal mapping for the 'Age Group' column\n",
    "age_group_mapping = {\n",
    "    '0 to 17': 1,\n",
    "    '18 to 29': 2,\n",
    "    '30 to 49': 3,\n",
    "    '50 to 69': 4,\n",
    "    '70 or Older': 5\n",
    "}\n",
    "\n",
    "# Function to encode 'Age Group' in the DataFrame\n",
    "def encode_age_group(df, mapping):\n",
    "    if 'Age Group' in df.columns:\n",
    "        df['Age Group'] = df['Age Group'].map(mapping)\n",
    "        \n",
    "        # Check for NaN values and issue a warning if any are found\n",
    "        if df['Age Group'].isna().any():\n",
    "            print(\"Warning: NaN values found, not all entries could be mapped.\")\n",
    "    return df\n",
    "\n",
    "# Usage\n",
    "df = encode_age_group(df, age_group_mapping)\n"
   ]
  },
  {
   "cell_type": "markdown",
   "id": "cc3e7e3c-b093-4c40-897d-ad99bd404f94",
   "metadata": {},
   "source": [
    "### One-hot Encoding on Ethnicity "
   ]
  },
  {
   "cell_type": "code",
   "execution_count": 10,
   "id": "27ab872c-5c0b-403d-b7c5-9a92dabce7d7",
   "metadata": {},
   "outputs": [
    {
     "name": "stderr",
     "output_type": "stream",
     "text": [
      "C:\\Users\\Windows\\AppData\\Local\\Programs\\Python\\Python311\\Lib\\site-packages\\category_encoders\\utils.py:28: FutureWarning: is_categorical_dtype is deprecated and will be removed in a future version. Use isinstance(dtype, CategoricalDtype) instead\n",
      "  elif pd.api.types.is_categorical_dtype(cols):\n",
      "C:\\Users\\Windows\\AppData\\Local\\Programs\\Python\\Python311\\Lib\\site-packages\\category_encoders\\utils.py:50: FutureWarning: is_categorical_dtype is deprecated and will be removed in a future version. Use isinstance(dtype, CategoricalDtype) instead\n",
      "  return pd.api.types.is_categorical_dtype(dtype)\n",
      "C:\\Users\\Windows\\AppData\\Local\\Programs\\Python\\Python311\\Lib\\site-packages\\category_encoders\\utils.py:50: FutureWarning: is_categorical_dtype is deprecated and will be removed in a future version. Use isinstance(dtype, CategoricalDtype) instead\n",
      "  return pd.api.types.is_categorical_dtype(dtype)\n",
      "C:\\Users\\Windows\\AppData\\Local\\Programs\\Python\\Python311\\Lib\\site-packages\\category_encoders\\utils.py:50: FutureWarning: is_categorical_dtype is deprecated and will be removed in a future version. Use isinstance(dtype, CategoricalDtype) instead\n",
      "  return pd.api.types.is_categorical_dtype(dtype)\n",
      "C:\\Users\\Windows\\AppData\\Local\\Programs\\Python\\Python311\\Lib\\site-packages\\category_encoders\\utils.py:50: FutureWarning: is_categorical_dtype is deprecated and will be removed in a future version. Use isinstance(dtype, CategoricalDtype) instead\n",
      "  return pd.api.types.is_categorical_dtype(dtype)\n"
     ]
    }
   ],
   "source": [
    "# Define the encoder\n",
    "encoder = ce.OneHotEncoder(cols=['Ethnicity'], use_cat_names=True)\n",
    "\n",
    "# Fit and transform the DataFrame\n",
    "df = encoder.fit_transform(df)"
   ]
  },
  {
   "cell_type": "markdown",
   "id": "8ef99935-5305-4b1f-82b5-81cfa020b7b7",
   "metadata": {},
   "source": [
    "### One-hot Encoding on Gender"
   ]
  },
  {
   "cell_type": "code",
   "execution_count": 11,
   "id": "769a9392-df04-40ba-9ea3-753d1d8aeb58",
   "metadata": {},
   "outputs": [
    {
     "name": "stderr",
     "output_type": "stream",
     "text": [
      "C:\\Users\\Windows\\AppData\\Local\\Programs\\Python\\Python311\\Lib\\site-packages\\category_encoders\\utils.py:28: FutureWarning: is_categorical_dtype is deprecated and will be removed in a future version. Use isinstance(dtype, CategoricalDtype) instead\n",
      "  elif pd.api.types.is_categorical_dtype(cols):\n",
      "C:\\Users\\Windows\\AppData\\Local\\Programs\\Python\\Python311\\Lib\\site-packages\\category_encoders\\utils.py:50: FutureWarning: is_categorical_dtype is deprecated and will be removed in a future version. Use isinstance(dtype, CategoricalDtype) instead\n",
      "  return pd.api.types.is_categorical_dtype(dtype)\n",
      "C:\\Users\\Windows\\AppData\\Local\\Programs\\Python\\Python311\\Lib\\site-packages\\category_encoders\\utils.py:50: FutureWarning: is_categorical_dtype is deprecated and will be removed in a future version. Use isinstance(dtype, CategoricalDtype) instead\n",
      "  return pd.api.types.is_categorical_dtype(dtype)\n",
      "C:\\Users\\Windows\\AppData\\Local\\Programs\\Python\\Python311\\Lib\\site-packages\\category_encoders\\utils.py:50: FutureWarning: is_categorical_dtype is deprecated and will be removed in a future version. Use isinstance(dtype, CategoricalDtype) instead\n",
      "  return pd.api.types.is_categorical_dtype(dtype)\n",
      "C:\\Users\\Windows\\AppData\\Local\\Programs\\Python\\Python311\\Lib\\site-packages\\category_encoders\\utils.py:50: FutureWarning: is_categorical_dtype is deprecated and will be removed in a future version. Use isinstance(dtype, CategoricalDtype) instead\n",
      "  return pd.api.types.is_categorical_dtype(dtype)\n"
     ]
    }
   ],
   "source": [
    "# Define the encoder\n",
    "encoder = ce.OneHotEncoder(cols=['Gender'], use_cat_names=True)\n",
    "\n",
    "# Fit and transform the DataFrame\n",
    "df = encoder.fit_transform(df)"
   ]
  },
  {
   "cell_type": "markdown",
   "id": "c56c916f-a106-4169-ba59-7e4d4dad03f7",
   "metadata": {},
   "source": [
    "### One-hot Encoding on Race"
   ]
  },
  {
   "cell_type": "code",
   "execution_count": 12,
   "id": "36341136-c295-4e90-9b24-aeda73f94bca",
   "metadata": {},
   "outputs": [
    {
     "name": "stderr",
     "output_type": "stream",
     "text": [
      "C:\\Users\\Windows\\AppData\\Local\\Programs\\Python\\Python311\\Lib\\site-packages\\category_encoders\\utils.py:28: FutureWarning: is_categorical_dtype is deprecated and will be removed in a future version. Use isinstance(dtype, CategoricalDtype) instead\n",
      "  elif pd.api.types.is_categorical_dtype(cols):\n",
      "C:\\Users\\Windows\\AppData\\Local\\Programs\\Python\\Python311\\Lib\\site-packages\\category_encoders\\utils.py:50: FutureWarning: is_categorical_dtype is deprecated and will be removed in a future version. Use isinstance(dtype, CategoricalDtype) instead\n",
      "  return pd.api.types.is_categorical_dtype(dtype)\n",
      "C:\\Users\\Windows\\AppData\\Local\\Programs\\Python\\Python311\\Lib\\site-packages\\category_encoders\\utils.py:50: FutureWarning: is_categorical_dtype is deprecated and will be removed in a future version. Use isinstance(dtype, CategoricalDtype) instead\n",
      "  return pd.api.types.is_categorical_dtype(dtype)\n",
      "C:\\Users\\Windows\\AppData\\Local\\Programs\\Python\\Python311\\Lib\\site-packages\\category_encoders\\utils.py:50: FutureWarning: is_categorical_dtype is deprecated and will be removed in a future version. Use isinstance(dtype, CategoricalDtype) instead\n",
      "  return pd.api.types.is_categorical_dtype(dtype)\n",
      "C:\\Users\\Windows\\AppData\\Local\\Programs\\Python\\Python311\\Lib\\site-packages\\category_encoders\\utils.py:50: FutureWarning: is_categorical_dtype is deprecated and will be removed in a future version. Use isinstance(dtype, CategoricalDtype) instead\n",
      "  return pd.api.types.is_categorical_dtype(dtype)\n"
     ]
    }
   ],
   "source": [
    "# Define the encoder\n",
    "encoder = ce.OneHotEncoder(cols=['Race'], use_cat_names=True)\n",
    "\n",
    "# Fit and transform the DataFrame\n",
    "df = encoder.fit_transform(df)"
   ]
  },
  {
   "cell_type": "markdown",
   "id": "f5cf3562-db00-4951-b9d8-dd5daf7bf356",
   "metadata": {},
   "source": [
    "# Hospital Stay"
   ]
  },
  {
   "cell_type": "code",
   "execution_count": 13,
   "id": "38184dd4-1d6f-4e95-8c66-8871d68b7395",
   "metadata": {},
   "outputs": [
    {
     "name": "stdout",
     "output_type": "stream",
     "text": [
      "Hospital Stay:\n"
     ]
    },
    {
     "data": {
      "text/html": [
       "<div>\n",
       "<style scoped>\n",
       "    .dataframe tbody tr th:only-of-type {\n",
       "        vertical-align: middle;\n",
       "    }\n",
       "\n",
       "    .dataframe tbody tr th {\n",
       "        vertical-align: top;\n",
       "    }\n",
       "\n",
       "    .dataframe thead th {\n",
       "        text-align: right;\n",
       "    }\n",
       "</style>\n",
       "<table border=\"1\" class=\"dataframe\">\n",
       "  <thead>\n",
       "    <tr style=\"text-align: right;\">\n",
       "      <th></th>\n",
       "      <th></th>\n",
       "      <th>Unique Values</th>\n",
       "      <th>Number of Unique Values</th>\n",
       "      <th>Percentage of Null Values</th>\n",
       "    </tr>\n",
       "    <tr>\n",
       "      <th>index</th>\n",
       "      <th>Year</th>\n",
       "      <th></th>\n",
       "      <th></th>\n",
       "      <th></th>\n",
       "    </tr>\n",
       "  </thead>\n",
       "  <tbody>\n",
       "    <tr>\n",
       "      <th>Length of Stay</th>\n",
       "      <th>2009</th>\n",
       "      <td>[3, 2, 1, 4, 8, 6, 16, 7, 23, 5, 22, 15, 78, 1...</td>\n",
       "      <td>120</td>\n",
       "      <td>0.0</td>\n",
       "    </tr>\n",
       "    <tr>\n",
       "      <th>Patient Disposition</th>\n",
       "      <th>2009</th>\n",
       "      <td>[Home or Self Care, Short-term Hospital, Cance...</td>\n",
       "      <td>19</td>\n",
       "      <td>0.0</td>\n",
       "    </tr>\n",
       "    <tr>\n",
       "      <th>Type of Admission</th>\n",
       "      <th>2009</th>\n",
       "      <td>[Emergency, Newborn, Elective, Urgent, Not Ava...</td>\n",
       "      <td>6</td>\n",
       "      <td>0.0</td>\n",
       "    </tr>\n",
       "  </tbody>\n",
       "</table>\n",
       "</div>"
      ],
      "text/plain": [
       "                                                              Unique Values  \\\n",
       "index               Year                                                      \n",
       "Length of Stay      2009  [3, 2, 1, 4, 8, 6, 16, 7, 23, 5, 22, 15, 78, 1...   \n",
       "Patient Disposition 2009  [Home or Self Care, Short-term Hospital, Cance...   \n",
       "Type of Admission   2009  [Emergency, Newborn, Elective, Urgent, Not Ava...   \n",
       "\n",
       "                         Number of Unique Values  Percentage of Null Values  \n",
       "index               Year                                                     \n",
       "Length of Stay      2009                     120                        0.0  \n",
       "Patient Disposition 2009                      19                        0.0  \n",
       "Type of Admission   2009                       6                        0.0  "
      ]
     },
     "execution_count": 13,
     "metadata": {},
     "output_type": "execute_result"
    }
   ],
   "source": [
    "hospital_stay_df = display_by_category(final_df, 'Hospital Stay')\n",
    "print(\"Hospital Stay:\")\n",
    "hospital_stay_df"
   ]
  },
  {
   "cell_type": "markdown",
   "id": "0aea553b-5481-4552-b34f-8c3782f96ed0",
   "metadata": {},
   "source": [
    "## Oridinal Encoding on Length of Stay"
   ]
  },
  {
   "cell_type": "code",
   "execution_count": 14,
   "id": "744a799c-e2de-4d73-aa73-1db6a07e7cc9",
   "metadata": {},
   "outputs": [
    {
     "name": "stdout",
     "output_type": "stream",
     "text": [
      "120 unique \"Length of Stay\" values\n"
     ]
    },
    {
     "data": {
      "text/plain": [
       "['3',\n",
       " '2',\n",
       " '1',\n",
       " '4',\n",
       " '8',\n",
       " '6',\n",
       " '16',\n",
       " '7',\n",
       " '23',\n",
       " '5',\n",
       " '22',\n",
       " '15',\n",
       " '78',\n",
       " '10',\n",
       " '24',\n",
       " '18',\n",
       " '20',\n",
       " '59',\n",
       " '9',\n",
       " '13',\n",
       " '17',\n",
       " '11',\n",
       " '14',\n",
       " '12',\n",
       " '32',\n",
       " '36',\n",
       " '21',\n",
       " '40',\n",
       " '19',\n",
       " '25',\n",
       " '30',\n",
       " '35',\n",
       " '31',\n",
       " '58',\n",
       " '26',\n",
       " '28',\n",
       " '45',\n",
       " '34',\n",
       " '29',\n",
       " '120 +',\n",
       " '43',\n",
       " '80',\n",
       " '67',\n",
       " '103',\n",
       " '44',\n",
       " '73',\n",
       " '64',\n",
       " '49',\n",
       " '47',\n",
       " '60',\n",
       " '115',\n",
       " '57',\n",
       " '46',\n",
       " '83',\n",
       " '27',\n",
       " '76',\n",
       " '112',\n",
       " '38',\n",
       " '48',\n",
       " '37',\n",
       " '50',\n",
       " '52',\n",
       " '39',\n",
       " '77',\n",
       " '65',\n",
       " '100',\n",
       " '118',\n",
       " '55',\n",
       " '54',\n",
       " '90',\n",
       " '111',\n",
       " '56',\n",
       " '70',\n",
       " '79',\n",
       " '92',\n",
       " '33',\n",
       " '91',\n",
       " '88',\n",
       " '74',\n",
       " '89',\n",
       " '85',\n",
       " '98',\n",
       " '62',\n",
       " '63',\n",
       " '51',\n",
       " '71',\n",
       " '72',\n",
       " '105',\n",
       " '42',\n",
       " '61',\n",
       " '41',\n",
       " '95',\n",
       " '75',\n",
       " '84',\n",
       " '53',\n",
       " '66',\n",
       " '101',\n",
       " '94',\n",
       " '87',\n",
       " '114',\n",
       " '69',\n",
       " '68',\n",
       " '99',\n",
       " '107',\n",
       " '81',\n",
       " '110',\n",
       " '106',\n",
       " '96',\n",
       " '108',\n",
       " '109',\n",
       " '113',\n",
       " '97',\n",
       " '82',\n",
       " '102',\n",
       " '86',\n",
       " '104',\n",
       " '119',\n",
       " '93',\n",
       " '116',\n",
       " '117']"
      ]
     },
     "execution_count": 14,
     "metadata": {},
     "output_type": "execute_result"
    }
   ],
   "source": [
    "unique_length_of_stays = find_unique(df, \"Length of Stay\")\n",
    "print(f'{len(unique_length_of_stays)} unique \"Length of Stay\" values')\n",
    "unique_length_of_stays"
   ]
  },
  {
   "cell_type": "code",
   "execution_count": 15,
   "id": "d1bb3708-966c-47b1-8f70-b5792cf34278",
   "metadata": {
    "tags": []
   },
   "outputs": [],
   "source": [
    "def encode_length_of_stay(df):\n",
    "    if 'Length of Stay' in df.columns:\n",
    "        \n",
    "        # Replace '120 +' with 120 for conversion to integer\n",
    "        df['Length of Stay'].replace('120 +', '120', inplace=True)\n",
    "        \n",
    "        # Convert the column to integer type for ordinal nature\n",
    "        df['Length of Stay'] = df['Length of Stay'].astype(int)\n",
    "        \n",
    "        # Sort the unique values in ascending order\n",
    "        sorted_unique_values = sorted(df['Length of Stay'].unique())\n",
    "        \n",
    "        # Create an ordinal mapping from sorted unique values\n",
    "        ordinal_mapping = {val: idx + 1 for idx, val in enumerate(sorted_unique_values)}\n",
    "        \n",
    "        # Map the column to its ordinal encoding\n",
    "        df['Length of Stay'] = df['Length of Stay'].map(ordinal_mapping)\n",
    "        \n",
    "        # Check for NaN values and issue a warning if any are found\n",
    "        if df['Length of Stay'].isna().any():\n",
    "            print(\"Warning: NaN values found, not all entries could be mapped.\")\n",
    "            \n",
    "    return df\n",
    "\n",
    "df = encode_length_of_stay(df)"
   ]
  },
  {
   "cell_type": "markdown",
   "id": "7ea58a7a-5bf3-480a-ace6-45f8574ef6ce",
   "metadata": {},
   "source": [
    "## One-hot Encoding on Type of Admission"
   ]
  },
  {
   "cell_type": "code",
   "execution_count": 16,
   "id": "2aeedca7-9ce4-4266-befd-6f07c419b269",
   "metadata": {},
   "outputs": [
    {
     "name": "stderr",
     "output_type": "stream",
     "text": [
      "C:\\Users\\Windows\\AppData\\Local\\Programs\\Python\\Python311\\Lib\\site-packages\\category_encoders\\utils.py:28: FutureWarning: is_categorical_dtype is deprecated and will be removed in a future version. Use isinstance(dtype, CategoricalDtype) instead\n",
      "  elif pd.api.types.is_categorical_dtype(cols):\n",
      "C:\\Users\\Windows\\AppData\\Local\\Programs\\Python\\Python311\\Lib\\site-packages\\category_encoders\\utils.py:50: FutureWarning: is_categorical_dtype is deprecated and will be removed in a future version. Use isinstance(dtype, CategoricalDtype) instead\n",
      "  return pd.api.types.is_categorical_dtype(dtype)\n",
      "C:\\Users\\Windows\\AppData\\Local\\Programs\\Python\\Python311\\Lib\\site-packages\\category_encoders\\utils.py:50: FutureWarning: is_categorical_dtype is deprecated and will be removed in a future version. Use isinstance(dtype, CategoricalDtype) instead\n",
      "  return pd.api.types.is_categorical_dtype(dtype)\n",
      "C:\\Users\\Windows\\AppData\\Local\\Programs\\Python\\Python311\\Lib\\site-packages\\category_encoders\\utils.py:50: FutureWarning: is_categorical_dtype is deprecated and will be removed in a future version. Use isinstance(dtype, CategoricalDtype) instead\n",
      "  return pd.api.types.is_categorical_dtype(dtype)\n",
      "C:\\Users\\Windows\\AppData\\Local\\Programs\\Python\\Python311\\Lib\\site-packages\\category_encoders\\utils.py:50: FutureWarning: is_categorical_dtype is deprecated and will be removed in a future version. Use isinstance(dtype, CategoricalDtype) instead\n",
      "  return pd.api.types.is_categorical_dtype(dtype)\n"
     ]
    }
   ],
   "source": [
    "# Define the encoder\n",
    "encoder = ce.OneHotEncoder(cols=['Type of Admission'], use_cat_names=True)\n",
    "\n",
    "# Fit and transform the DataFrame\n",
    "df = encoder.fit_transform(df)"
   ]
  },
  {
   "cell_type": "markdown",
   "id": "5f3ada93-beb7-4784-8b08-51f26f03c10f",
   "metadata": {},
   "source": [
    "## Ordinal Encoding on Patient Disposition"
   ]
  },
  {
   "cell_type": "code",
   "execution_count": 17,
   "id": "44c6d283-1ab0-47e5-b066-42c501cc7042",
   "metadata": {},
   "outputs": [],
   "source": [
    "# Create a mapping dictionary for 'Patient Disposition'\n",
    "patient_disposition_mapping = {\n",
    "    'Home or Self Care': 1,\n",
    "    'Admitted from Ambulatory Surgery': 2,\n",
    "    'Home w/ Home Health Services': 3,\n",
    "    'Hospice - Home': 4,\n",
    "    'Facility w/ Custodial/Supportive Care': 5,\n",
    "    'Skilled Nursing Home': 6,\n",
    "    'Medicaid Cert Nursing Facility': 7,\n",
    "    'Medicare Cert Long Term Care Hospital': 8,\n",
    "    'Inpatient Rehabilitation Facility': 9,\n",
    "    'Critical Access Hospital': 10,\n",
    "    'Hosp Basd Medicare Approved Swing Bed': 11,\n",
    "    \"Cancer Center or Children's Hospital\": 12,\n",
    "    'Federal Health Care Facility': 13,\n",
    "    'Short-term Hospital': 14,\n",
    "    'Psychiatric Hospital or Unit of Hosp': 15,\n",
    "    'Another Type Not Listed': 16,\n",
    "    'Left Against Medical Advice': 17,\n",
    "    'Court/Law Enforcement': 18,\n",
    "    'Hospice - Medical Facility': 19,\n",
    "    'Expired': 20\n",
    "}\n",
    "\n",
    "# Function to apply ordinal encoding to the 'Patient Disposition' column\n",
    "def ordinal_encode_column(df, column_name, mapping_dict):\n",
    "    if column_name in df.columns:\n",
    "        df[column_name] = df[column_name].map(mapping_dict)\n",
    "    return df\n",
    "\n",
    "df = ordinal_encode_column(df, 'Patient Disposition', patient_disposition_mapping)"
   ]
  },
  {
   "cell_type": "markdown",
   "id": "e0714d48-6686-4cbc-882c-bd18d7b60081",
   "metadata": {
    "tags": []
   },
   "source": [
    "# Medical Information"
   ]
  },
  {
   "cell_type": "code",
   "execution_count": 18,
   "id": "3ea21148-ed5a-4b8c-a596-28a7fdad299a",
   "metadata": {},
   "outputs": [
    {
     "name": "stdout",
     "output_type": "stream",
     "text": [
      "Medical Information:\n"
     ]
    },
    {
     "data": {
      "text/html": [
       "<div>\n",
       "<style scoped>\n",
       "    .dataframe tbody tr th:only-of-type {\n",
       "        vertical-align: middle;\n",
       "    }\n",
       "\n",
       "    .dataframe tbody tr th {\n",
       "        vertical-align: top;\n",
       "    }\n",
       "\n",
       "    .dataframe thead th {\n",
       "        text-align: right;\n",
       "    }\n",
       "</style>\n",
       "<table border=\"1\" class=\"dataframe\">\n",
       "  <thead>\n",
       "    <tr style=\"text-align: right;\">\n",
       "      <th></th>\n",
       "      <th></th>\n",
       "      <th>Unique Values</th>\n",
       "      <th>Number of Unique Values</th>\n",
       "      <th>Percentage of Null Values</th>\n",
       "    </tr>\n",
       "    <tr>\n",
       "      <th>index</th>\n",
       "      <th>Year</th>\n",
       "      <th></th>\n",
       "      <th></th>\n",
       "      <th></th>\n",
       "    </tr>\n",
       "  </thead>\n",
       "  <tbody>\n",
       "    <tr>\n",
       "      <th>CCSR Diagnosis Code</th>\n",
       "      <th>2009</th>\n",
       "      <td>[A78, D250, C228, A840, A3700, A360, D3140, E2...</td>\n",
       "      <td>166</td>\n",
       "      <td>0.0</td>\n",
       "    </tr>\n",
       "    <tr>\n",
       "      <th>CCSR Procedure Code</th>\n",
       "      <th>2009</th>\n",
       "      <td>[A030, D230, D020, D3000, D3140, A65, B3783, A...</td>\n",
       "      <td>152</td>\n",
       "      <td>0.0</td>\n",
       "    </tr>\n",
       "  </tbody>\n",
       "</table>\n",
       "</div>"
      ],
      "text/plain": [
       "                                                              Unique Values  \\\n",
       "index               Year                                                      \n",
       "CCSR Diagnosis Code 2009  [A78, D250, C228, A840, A3700, A360, D3140, E2...   \n",
       "CCSR Procedure Code 2009  [A030, D230, D020, D3000, D3140, A65, B3783, A...   \n",
       "\n",
       "                         Number of Unique Values  Percentage of Null Values  \n",
       "index               Year                                                     \n",
       "CCSR Diagnosis Code 2009                     166                        0.0  \n",
       "CCSR Procedure Code 2009                     152                        0.0  "
      ]
     },
     "execution_count": 18,
     "metadata": {},
     "output_type": "execute_result"
    }
   ],
   "source": [
    "medical_info_df = display_by_category(final_df, 'Medical Information')\n",
    "print(\"Medical Information:\")\n",
    "medical_info_df"
   ]
  },
  {
   "cell_type": "markdown",
   "id": "e4d839e7-732d-4a00-90c4-5471d9a50115",
   "metadata": {
    "jp-MarkdownHeadingCollapsed": true
   },
   "source": [
    "### Oridnal Encoding on CCSR Diagnosis Code (Optional)"
   ]
  },
  {
   "cell_type": "raw",
   "id": "b18dc9ce-edff-4eef-b9f6-6a5c8ef5838f",
   "metadata": {},
   "source": [
    "unique_diagnosis_codes = find_unique(df, \"CCSR Diagnosis Code\")\n",
    "print(f'{len(unique_diagnosis_codes)} unique \"CCSR Diagnosis Code\" values')\n",
    "#unique_diagnosis_codes"
   ]
  },
  {
   "cell_type": "raw",
   "id": "4f38518e-0552-448d-a0dc-8349c0e5852d",
   "metadata": {},
   "source": [
    "def encode_ccsr_diagnosis_code(df, unique_diagnosis_codes):\n",
    "    # Sort the unique values in alphabetical order\n",
    "    sorted_unique_values = sorted(unique_diagnosis_codes)\n",
    "    \n",
    "    # Create an ordinal mapping from sorted unique values\n",
    "    ordinal_mapping = {val: idx + 1 for idx, val in enumerate(sorted_unique_values)}\n",
    "    \n",
    "    if 'CCSR Diagnosis Code' in df.columns:\n",
    "        # Map the column to its ordinal encoding\n",
    "        df['CCSR Diagnosis Code'] = df['CCSR Diagnosis Code'].map(ordinal_mapping)\n",
    "        \n",
    "        # Check for NaN values and issue a warning if any are found\n",
    "        if df['CCSR Diagnosis Code'].isna().any():\n",
    "            print(\"Warning: NaN values found, not all entries could be mapped.\")\n",
    "                \n",
    "    return df\n",
    "\n",
    "# Usage\n",
    "df = encode_ccsr_diagnosis_code(df, unique_diagnosis_codes)"
   ]
  },
  {
   "cell_type": "markdown",
   "id": "9c25b4cd-fa94-4f22-a456-e01100d901bc",
   "metadata": {
    "jp-MarkdownHeadingCollapsed": true
   },
   "source": [
    "### Ordinal Encoding on CCSR Procedure Code (Optional)"
   ]
  },
  {
   "cell_type": "raw",
   "id": "839d64d5-5f5a-404c-ae32-0213e796f8fa",
   "metadata": {},
   "source": [
    "unique_procedure_codes = find_unique(df, \"CCSR Procedure Code\")\n",
    "print(f'{len(unique_procedure_codes)} unique \"CCSR Procedure Code\" values')\n",
    "#unique_procedure_codes"
   ]
  },
  {
   "cell_type": "raw",
   "id": "d92f33af-23a8-4f4c-98fd-5dff3c6690d7",
   "metadata": {},
   "source": [
    "def encode_ccsr_procedure_code(df, unique_procedure_codes):\n",
    "    # Remove NaN, None and sort the remaining unique values in alphabetical order\n",
    "    filtered_values = [code for code in unique_procedure_codes if code == code and code is not None]  # `code == code` will be False for NaN\n",
    "    sorted_unique_values = sorted(filtered_values)\n",
    "    \n",
    "    # Create an ordinal mapping from sorted unique values, starting from 1\n",
    "    ordinal_mapping = {val: idx + 1 for idx, val in enumerate(sorted_unique_values)}\n",
    "    \n",
    "    # Handle NaN separately, encoding it as 0\n",
    "    ordinal_mapping[np.nan] = 0\n",
    "    ordinal_mapping[None] = 0  # handle None in case it appears in the DataFrame column\n",
    "    \n",
    "    if 'CCSR Procedure Code' in df.columns:\n",
    "        # Map the column to its ordinal encoding\n",
    "        df['CCSR Procedure Code'] = df['CCSR Procedure Code'].map(ordinal_mapping)\n",
    "        \n",
    "        # Check for NaN values and issue a warning if any are found\n",
    "        if df['CCSR Procedure Code'].isna().any():\n",
    "            print(\"Warning: NaN values found, not all entries could be mapped.\")\n",
    "                \n",
    "    return df\n",
    "\n",
    "# Usage\n",
    "df = encode_ccsr_procedure_code(df, unique_procedure_codes)\n"
   ]
  },
  {
   "cell_type": "markdown",
   "id": "d4f66cc5-d769-42e1-98c8-19283c8b533d",
   "metadata": {},
   "source": [
    "# Severity & Risk"
   ]
  },
  {
   "cell_type": "code",
   "execution_count": 19,
   "id": "5b35a980-3cfb-4fba-8d06-ac6f98abdd1c",
   "metadata": {},
   "outputs": [
    {
     "name": "stdout",
     "output_type": "stream",
     "text": [
      "Severity & Risk:\n"
     ]
    },
    {
     "data": {
      "text/html": [
       "<div>\n",
       "<style scoped>\n",
       "    .dataframe tbody tr th:only-of-type {\n",
       "        vertical-align: middle;\n",
       "    }\n",
       "\n",
       "    .dataframe tbody tr th {\n",
       "        vertical-align: top;\n",
       "    }\n",
       "\n",
       "    .dataframe thead th {\n",
       "        text-align: right;\n",
       "    }\n",
       "</style>\n",
       "<table border=\"1\" class=\"dataframe\">\n",
       "  <thead>\n",
       "    <tr style=\"text-align: right;\">\n",
       "      <th></th>\n",
       "      <th></th>\n",
       "      <th>Unique Values</th>\n",
       "      <th>Number of Unique Values</th>\n",
       "      <th>Percentage of Null Values</th>\n",
       "    </tr>\n",
       "    <tr>\n",
       "      <th>index</th>\n",
       "      <th>Year</th>\n",
       "      <th></th>\n",
       "      <th></th>\n",
       "      <th></th>\n",
       "    </tr>\n",
       "  </thead>\n",
       "  <tbody>\n",
       "    <tr>\n",
       "      <th>APR Risk of Mortality</th>\n",
       "      <th>2009</th>\n",
       "      <td>[Minor, Moderate, Major, Extreme]</td>\n",
       "      <td>4</td>\n",
       "      <td>0.0</td>\n",
       "    </tr>\n",
       "    <tr>\n",
       "      <th>APR Severity of Illness Code</th>\n",
       "      <th>2009</th>\n",
       "      <td>[2, 3, 1, 4]</td>\n",
       "      <td>4</td>\n",
       "      <td>0.0</td>\n",
       "    </tr>\n",
       "  </tbody>\n",
       "</table>\n",
       "</div>"
      ],
      "text/plain": [
       "                                                       Unique Values  \\\n",
       "index                        Year                                      \n",
       "APR Risk of Mortality        2009  [Minor, Moderate, Major, Extreme]   \n",
       "APR Severity of Illness Code 2009                       [2, 3, 1, 4]   \n",
       "\n",
       "                                  Number of Unique Values  \\\n",
       "index                        Year                           \n",
       "APR Risk of Mortality        2009                       4   \n",
       "APR Severity of Illness Code 2009                       4   \n",
       "\n",
       "                                   Percentage of Null Values  \n",
       "index                        Year                             \n",
       "APR Risk of Mortality        2009                        0.0  \n",
       "APR Severity of Illness Code 2009                        0.0  "
      ]
     },
     "execution_count": 19,
     "metadata": {},
     "output_type": "execute_result"
    }
   ],
   "source": [
    "severity_and_risk_df = display_by_category(final_df, 'Severity & Risk')\n",
    "print(\"Severity & Risk:\")\n",
    "severity_and_risk_df"
   ]
  },
  {
   "cell_type": "markdown",
   "id": "730ea781-3289-40a6-a865-aae6c90becd4",
   "metadata": {},
   "source": [
    "### One-hot Encoding on APR Severity of Illness Code"
   ]
  },
  {
   "cell_type": "code",
   "execution_count": 20,
   "id": "b3a8169b-55f3-48db-8a4f-39c3427981f9",
   "metadata": {},
   "outputs": [
    {
     "name": "stderr",
     "output_type": "stream",
     "text": [
      "C:\\Users\\Windows\\AppData\\Local\\Programs\\Python\\Python311\\Lib\\site-packages\\category_encoders\\utils.py:28: FutureWarning: is_categorical_dtype is deprecated and will be removed in a future version. Use isinstance(dtype, CategoricalDtype) instead\n",
      "  elif pd.api.types.is_categorical_dtype(cols):\n",
      "C:\\Users\\Windows\\AppData\\Local\\Programs\\Python\\Python311\\Lib\\site-packages\\category_encoders\\utils.py:50: FutureWarning: is_categorical_dtype is deprecated and will be removed in a future version. Use isinstance(dtype, CategoricalDtype) instead\n",
      "  return pd.api.types.is_categorical_dtype(dtype)\n",
      "C:\\Users\\Windows\\AppData\\Local\\Programs\\Python\\Python311\\Lib\\site-packages\\category_encoders\\utils.py:50: FutureWarning: is_categorical_dtype is deprecated and will be removed in a future version. Use isinstance(dtype, CategoricalDtype) instead\n",
      "  return pd.api.types.is_categorical_dtype(dtype)\n",
      "C:\\Users\\Windows\\AppData\\Local\\Programs\\Python\\Python311\\Lib\\site-packages\\category_encoders\\utils.py:50: FutureWarning: is_categorical_dtype is deprecated and will be removed in a future version. Use isinstance(dtype, CategoricalDtype) instead\n",
      "  return pd.api.types.is_categorical_dtype(dtype)\n",
      "C:\\Users\\Windows\\AppData\\Local\\Programs\\Python\\Python311\\Lib\\site-packages\\category_encoders\\utils.py:50: FutureWarning: is_categorical_dtype is deprecated and will be removed in a future version. Use isinstance(dtype, CategoricalDtype) instead\n",
      "  return pd.api.types.is_categorical_dtype(dtype)\n"
     ]
    }
   ],
   "source": [
    "# Define the encoder\n",
    "encoder = ce.OneHotEncoder(cols=['APR Severity of Illness Code'], use_cat_names=True)\n",
    "\n",
    "# Fit and transform the DataFrame\n",
    "df = encoder.fit_transform(df)"
   ]
  },
  {
   "cell_type": "markdown",
   "id": "32c972db-b951-45ae-8f6b-b2ea0ffe1061",
   "metadata": {},
   "source": [
    "### One-hot Encoding on APR Risk of Mortality"
   ]
  },
  {
   "cell_type": "code",
   "execution_count": 21,
   "id": "7d590e96-6b5a-487f-bf02-ac9fbe390b2a",
   "metadata": {},
   "outputs": [
    {
     "name": "stderr",
     "output_type": "stream",
     "text": [
      "C:\\Users\\Windows\\AppData\\Local\\Programs\\Python\\Python311\\Lib\\site-packages\\category_encoders\\utils.py:28: FutureWarning: is_categorical_dtype is deprecated and will be removed in a future version. Use isinstance(dtype, CategoricalDtype) instead\n",
      "  elif pd.api.types.is_categorical_dtype(cols):\n",
      "C:\\Users\\Windows\\AppData\\Local\\Programs\\Python\\Python311\\Lib\\site-packages\\category_encoders\\utils.py:50: FutureWarning: is_categorical_dtype is deprecated and will be removed in a future version. Use isinstance(dtype, CategoricalDtype) instead\n",
      "  return pd.api.types.is_categorical_dtype(dtype)\n",
      "C:\\Users\\Windows\\AppData\\Local\\Programs\\Python\\Python311\\Lib\\site-packages\\category_encoders\\utils.py:50: FutureWarning: is_categorical_dtype is deprecated and will be removed in a future version. Use isinstance(dtype, CategoricalDtype) instead\n",
      "  return pd.api.types.is_categorical_dtype(dtype)\n",
      "C:\\Users\\Windows\\AppData\\Local\\Programs\\Python\\Python311\\Lib\\site-packages\\category_encoders\\utils.py:50: FutureWarning: is_categorical_dtype is deprecated and will be removed in a future version. Use isinstance(dtype, CategoricalDtype) instead\n",
      "  return pd.api.types.is_categorical_dtype(dtype)\n",
      "C:\\Users\\Windows\\AppData\\Local\\Programs\\Python\\Python311\\Lib\\site-packages\\category_encoders\\utils.py:50: FutureWarning: is_categorical_dtype is deprecated and will be removed in a future version. Use isinstance(dtype, CategoricalDtype) instead\n",
      "  return pd.api.types.is_categorical_dtype(dtype)\n"
     ]
    }
   ],
   "source": [
    "# Define the encoder\n",
    "encoder = ce.OneHotEncoder(cols=['APR Risk of Mortality'], use_cat_names=True)\n",
    "\n",
    "# Fit and transform the DataFrame\n",
    "df = encoder.fit_transform(df)"
   ]
  },
  {
   "cell_type": "markdown",
   "id": "344db8b1-6bc4-4527-adbf-679b42410fdb",
   "metadata": {},
   "source": [
    "# Financial Information"
   ]
  },
  {
   "cell_type": "code",
   "execution_count": 22,
   "id": "bd384cdb-9ad8-4946-a066-1c6c1310573e",
   "metadata": {},
   "outputs": [
    {
     "name": "stdout",
     "output_type": "stream",
     "text": [
      "Financial Information:\n"
     ]
    },
    {
     "data": {
      "text/html": [
       "<div>\n",
       "<style scoped>\n",
       "    .dataframe tbody tr th:only-of-type {\n",
       "        vertical-align: middle;\n",
       "    }\n",
       "\n",
       "    .dataframe tbody tr th {\n",
       "        vertical-align: top;\n",
       "    }\n",
       "\n",
       "    .dataframe thead th {\n",
       "        text-align: right;\n",
       "    }\n",
       "</style>\n",
       "<table border=\"1\" class=\"dataframe\">\n",
       "  <thead>\n",
       "    <tr style=\"text-align: right;\">\n",
       "      <th></th>\n",
       "      <th></th>\n",
       "      <th>Unique Values</th>\n",
       "      <th>Number of Unique Values</th>\n",
       "      <th>Percentage of Null Values</th>\n",
       "    </tr>\n",
       "    <tr>\n",
       "      <th>index</th>\n",
       "      <th>Year</th>\n",
       "      <th></th>\n",
       "      <th></th>\n",
       "      <th></th>\n",
       "    </tr>\n",
       "  </thead>\n",
       "  <tbody>\n",
       "    <tr>\n",
       "      <th>Payment Typology 1</th>\n",
       "      <th>2009</th>\n",
       "      <td>[Self-Pay, Insurance Company, Blue Cross, Medi...</td>\n",
       "      <td>10</td>\n",
       "      <td>0.0</td>\n",
       "    </tr>\n",
       "    <tr>\n",
       "      <th>Total Charges</th>\n",
       "      <th>2009</th>\n",
       "      <td>[13697.82, 7271.95, 6253.88, 16128.93, 12059.2...</td>\n",
       "      <td>631152</td>\n",
       "      <td>0.0</td>\n",
       "    </tr>\n",
       "    <tr>\n",
       "      <th>Total Costs</th>\n",
       "      <th>2009</th>\n",
       "      <td>[3238.19, 3856.94, 2923.55, 8410.92, 1362.99, ...</td>\n",
       "      <td>602461</td>\n",
       "      <td>0.0</td>\n",
       "    </tr>\n",
       "  </tbody>\n",
       "</table>\n",
       "</div>"
      ],
      "text/plain": [
       "                                                             Unique Values  \\\n",
       "index              Year                                                      \n",
       "Payment Typology 1 2009  [Self-Pay, Insurance Company, Blue Cross, Medi...   \n",
       "Total Charges      2009  [13697.82, 7271.95, 6253.88, 16128.93, 12059.2...   \n",
       "Total Costs        2009  [3238.19, 3856.94, 2923.55, 8410.92, 1362.99, ...   \n",
       "\n",
       "                        Number of Unique Values  Percentage of Null Values  \n",
       "index              Year                                                     \n",
       "Payment Typology 1 2009                      10                        0.0  \n",
       "Total Charges      2009                  631152                        0.0  \n",
       "Total Costs        2009                  602461                        0.0  "
      ]
     },
     "execution_count": 22,
     "metadata": {},
     "output_type": "execute_result"
    }
   ],
   "source": [
    "financial_info_df = display_by_category(final_df, 'Financial Information')\n",
    "print(\"Financial Information:\")\n",
    "financial_info_df"
   ]
  },
  {
   "cell_type": "code",
   "execution_count": 23,
   "id": "aecc0d96-9a4a-45ed-a4eb-06bc86fe329f",
   "metadata": {},
   "outputs": [
    {
     "name": "stdout",
     "output_type": "stream",
     "text": [
      "10 unique \"Payment Typology 1\" values\n"
     ]
    },
    {
     "data": {
      "text/plain": [
       "['Self-Pay',\n",
       " 'Insurance Company',\n",
       " 'Blue Cross',\n",
       " 'Medicaid',\n",
       " 'Other Federal Program',\n",
       " 'CHAMPUS',\n",
       " 'Medicare',\n",
       " 'Workers Compensation',\n",
       " 'Other Non-Federal Program',\n",
       " 'Unknown']"
      ]
     },
     "execution_count": 23,
     "metadata": {},
     "output_type": "execute_result"
    }
   ],
   "source": [
    "unique_payments = find_unique(df, \"Payment Typology 1\")\n",
    "print(f'{len(unique_payments)} unique \"Payment Typology 1\" values')\n",
    "unique_payments"
   ]
  },
  {
   "cell_type": "markdown",
   "id": "30dfeb95-abaa-45d5-ba7f-f3086a58c132",
   "metadata": {},
   "source": [
    "### One-hot Encoding on Payment Typology 1"
   ]
  },
  {
   "cell_type": "code",
   "execution_count": 24,
   "id": "ee0e9ae8-9059-4379-a421-6a801d4a96d8",
   "metadata": {},
   "outputs": [
    {
     "name": "stderr",
     "output_type": "stream",
     "text": [
      "C:\\Users\\Windows\\AppData\\Local\\Programs\\Python\\Python311\\Lib\\site-packages\\category_encoders\\utils.py:28: FutureWarning: is_categorical_dtype is deprecated and will be removed in a future version. Use isinstance(dtype, CategoricalDtype) instead\n",
      "  elif pd.api.types.is_categorical_dtype(cols):\n",
      "C:\\Users\\Windows\\AppData\\Local\\Programs\\Python\\Python311\\Lib\\site-packages\\category_encoders\\utils.py:50: FutureWarning: is_categorical_dtype is deprecated and will be removed in a future version. Use isinstance(dtype, CategoricalDtype) instead\n",
      "  return pd.api.types.is_categorical_dtype(dtype)\n",
      "C:\\Users\\Windows\\AppData\\Local\\Programs\\Python\\Python311\\Lib\\site-packages\\category_encoders\\utils.py:50: FutureWarning: is_categorical_dtype is deprecated and will be removed in a future version. Use isinstance(dtype, CategoricalDtype) instead\n",
      "  return pd.api.types.is_categorical_dtype(dtype)\n",
      "C:\\Users\\Windows\\AppData\\Local\\Programs\\Python\\Python311\\Lib\\site-packages\\category_encoders\\utils.py:50: FutureWarning: is_categorical_dtype is deprecated and will be removed in a future version. Use isinstance(dtype, CategoricalDtype) instead\n",
      "  return pd.api.types.is_categorical_dtype(dtype)\n",
      "C:\\Users\\Windows\\AppData\\Local\\Programs\\Python\\Python311\\Lib\\site-packages\\category_encoders\\utils.py:50: FutureWarning: is_categorical_dtype is deprecated and will be removed in a future version. Use isinstance(dtype, CategoricalDtype) instead\n",
      "  return pd.api.types.is_categorical_dtype(dtype)\n"
     ]
    }
   ],
   "source": [
    "# Define the encoder\n",
    "encoder = ce.OneHotEncoder(cols=['Payment Typology 1'], use_cat_names=True)\n",
    "\n",
    "# Fit and transform the DataFrame\n",
    "df = encoder.fit_transform(df)"
   ]
  },
  {
   "cell_type": "markdown",
   "id": "a639941b-6dd2-4816-bce4-b03c56f82bf7",
   "metadata": {},
   "source": [
    "### Total Charges (no encoding needed)"
   ]
  },
  {
   "cell_type": "code",
   "execution_count": 25,
   "id": "1bebc606-686f-493e-9423-5772bda39eba",
   "metadata": {},
   "outputs": [
    {
     "name": "stdout",
     "output_type": "stream",
     "text": [
      "631152 unique \"Total Charges\" values\n",
      "All elements are floats: True\n"
     ]
    }
   ],
   "source": [
    "unique_charges = find_unique(df, \"Total Charges\")\n",
    "print(f'{len(unique_charges)} unique \"Total Charges\" values')\n",
    "#unique_charges\n",
    "\n",
    "all_floats = all(isinstance(x, float) for x in unique_charges)\n",
    "print(\"All elements are floats:\", all_floats)"
   ]
  },
  {
   "cell_type": "markdown",
   "id": "bd768125-4927-4c5e-92e0-ef1353116c7e",
   "metadata": {},
   "source": [
    "### Total Costs (no encoding needed)"
   ]
  },
  {
   "cell_type": "code",
   "execution_count": 26,
   "id": "54f5d13f-041a-464f-bf5b-754c15270a26",
   "metadata": {},
   "outputs": [
    {
     "name": "stdout",
     "output_type": "stream",
     "text": [
      "602461 unique \"Total Costs\" values\n",
      "All elements are floats: True\n"
     ]
    }
   ],
   "source": [
    "unique_costs = find_unique(df, \"Total Costs\")\n",
    "print(f'{len(unique_costs)} unique \"Total Costs\" values')\n",
    "#unique_costs\n",
    "\n",
    "all_floats = all(isinstance(x, float) for x in unique_costs)\n",
    "print(\"All elements are floats:\", all_floats)"
   ]
  },
  {
   "cell_type": "markdown",
   "id": "89f07b78-ded1-45ac-b3ff-360fd1cac1bc",
   "metadata": {},
   "source": [
    "# Final Check & Saving"
   ]
  },
  {
   "cell_type": "code",
   "execution_count": 27,
   "id": "75a0064a-da1b-4fe6-9b8c-1307a7f5894f",
   "metadata": {},
   "outputs": [
    {
     "name": "stdout",
     "output_type": "stream",
     "text": [
      "Number of rows with null values: 0\n"
     ]
    }
   ],
   "source": [
    "num_rows_with_nulls = df.isnull().any(axis=1).sum()\n",
    "print(f\"Number of rows with null values: {num_rows_with_nulls}\")"
   ]
  },
  {
   "cell_type": "code",
   "execution_count": 28,
   "id": "8c2accf2-c61a-445b-87ab-5fb54665b2d8",
   "metadata": {},
   "outputs": [],
   "source": [
    "# Saving DataFrame to Parquet format\n",
    "df.to_parquet('ny-final.parquet')"
   ]
  }
 ],
 "metadata": {
  "kernelspec": {
   "display_name": "Python 3 (ipykernel)",
   "language": "python",
   "name": "python3"
  },
  "language_info": {
   "codemirror_mode": {
    "name": "ipython",
    "version": 3
   },
   "file_extension": ".py",
   "mimetype": "text/x-python",
   "name": "python",
   "nbconvert_exporter": "python",
   "pygments_lexer": "ipython3",
   "version": "3.11.5"
  }
 },
 "nbformat": 4,
 "nbformat_minor": 5
}
