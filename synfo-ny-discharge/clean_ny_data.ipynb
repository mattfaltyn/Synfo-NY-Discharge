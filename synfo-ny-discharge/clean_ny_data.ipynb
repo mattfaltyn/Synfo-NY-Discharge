{
 "cells": [
  {
   "cell_type": "code",
   "execution_count": 1,
   "id": "cb79d19a-919d-4faf-8b60-f970c2700ac8",
   "metadata": {
    "tags": []
   },
   "outputs": [
    {
     "name": "stderr",
     "output_type": "stream",
     "text": [
      "C:\\Users\\Windows\\AppData\\Local\\Temp\\ipykernel_25452\\81566080.py:3: DeprecationWarning: Importing display from IPython.core.display is deprecated since IPython 7.14, please import from IPython display\n",
      "  from IPython.core.display import display, HTML\n"
     ]
    }
   ],
   "source": [
    "import pandas as pd\n",
    "import numpy as np\n",
    "from IPython.core.display import display, HTML\n",
    "import os"
   ]
  },
  {
   "cell_type": "markdown",
   "id": "40ad8a8e-6ef2-46c0-8c9a-b212e0d7961b",
   "metadata": {},
   "source": [
    "# Data Spec"
   ]
  },
  {
   "cell_type": "markdown",
   "id": "53c699b1-14d0-4e47-8390-01934f6d07fd",
   "metadata": {},
   "source": [
    "## 2009"
   ]
  },
  {
   "cell_type": "markdown",
   "id": "37a9f645-8afd-4806-83b7-b21944132204",
   "metadata": {},
   "source": [
    "| Column Name                        | Description                                                                                                                                                                                                                                      | Type      |\n",
    "|------------------------------------|--------------------------------------------------------------------------------------------------------------------------------------------------------------------------------------------------------------------------------------------------|-----------|\n",
    "| Health Service Area                | A description of the Health Service Area (HSA) in which the hospital is located. Blank for abortion records. Capital/Adirondack, Central NY, Finger Lakes, Hudson Valley, Long Island, New York City, Southern Tier, Western NY.                 | Plain Text|\n",
    "| Hospital County                    | A description of the county in which the hospital is located. Blank for abortion records.                                                                                                                                                        | Plain Text|\n",
    "| Operating Certificate Number       | The facility Operating Certificate Number as assigned by NYS Department of Health. Blank for abortion records.                                                                                                                                   | Plain Text|\n",
    "| Facility ID                        | Permanent Facility Identifier. Blank for abortion records.                                                                                                                                                                                      | Number    |\n",
    "| Facility Name                      | The name of the facility where services were performed based on the Permanent Facility Identifier (PFI), as maintained by the NYSDOH Division of Health Facility Planning. For abortion records ‘Abortion Record – Facility Name Redacted’ appears. | Plain Text|\n",
    "| Age Group                          | Age in years at time of discharge. Grouped into the following age groups: 0 to 17, 18 to 29, 30 to 49, 50 to 69, and 70 or Older                                                                                                                | Plain Text|\n",
    "| Zip Code - 3 digits                | The first three digits of the patient's zip code. Blank for: - population size less than 20,000 - abortion records, or - cell size less than 10 on population classification strata. “OOS” are Out of State zip codes.                             | Plain Text|\n",
    "| Gender                             | Patient gender: (M) Male, (F) Female, (U) Unknown                                                                                                                                                                                               | Plain Text|\n",
    "| Race                               | Patient race. Black/African American, Other Race, Unknown, White. Other Race includes Native Americans and Asian/Pacific Islander .                                                                                                              | Plain Text|\n",
    "| Ethnicity                          | Patient ethnicity. The ethnicity of the patient: Spanish/Hispanic Origin, Not of Spanish/Hispanic Origin, Multi, Unknown.                                                                                                                        | Plain Text|\n",
    "| Length of Stay                     | The total number of patient days at an acute level and/or other than acute care level (excluding leave of absence days) (Discharge Date - Admission Date) + 1. Length of Stay greater than or equal to 120 days has been aggregated to 120+ days.   | Plain Text|\n",
    "| Type of Admission                  | A description of the manner in which the patient was admitted to the health care facility: Elective, Emergency, Newborn, Not Available, Trauma, Urgent.                                                                                           | Plain Text|\n",
    "| Patient Disposition                | The patient's destination or status upon discharge                                                                                                                                                                                              | Plain Text|\n",
    "| Discharge Year                     | The year (CCYY) of discharge.                                                                                                                                                                                                                   | Plain Text|\n",
    "| CCS Diagnosis Code                 | AHRQ Clinical Classification Software (CCS) Diagnosis Category Code. More information on the CCS system may be found at the direct link: [http://www.hcup-us.ahrq.gov/toolssoftware/ccs/ccs.jsp](http://www.hcup-us.ahrq.gov/toolssoftware/ccs/ccs.jsp)                       | Plain Text|\n",
    "| CCS Diagnosis Description          | AHRQ Clinical Classification Software (CCS) Diagnosis Category Description. More information on the CCS system may be found at the direct link: [http://www.hcup-us.ahrq.gov/toolssoftware/ccs/ccs.jsp](http://www.hcup-us.ahrq.gov/toolssoftware/ccs/ccs.jsp)                | Plain Text|\n",
    "| CCS Procedure Code                 | AHRQ Clinical Classification Software (CCS) ICD-9 Procedure Category Code. More information on the CCS system may be found at the direct link: [http://www.hcup-us.ahrq.gov/toolssoftware/ccs/ccs.jsp](http://www.hcup-us.ahrq.gov/toolssoftware/ccs/ccs.jsp)                | Plain Text|\n",
    "| CCS Procedure Description          | AHRQ Clinical Classification Software (CCS) ICD-9 Procedure Category Description. More information on the CCS system may be found at the direct link: [http://www.hcup-us.ahrq.gov/toolssoftware/ccs/ccs.jsp](http://www.hcup-us.ahrq.gov/toolssoftware/ccs/ccs.jsp)             | Plain Text|\n",
    "| APR DRG Code                       | The APR - DRG Classification Code                                                                                                                                                                                                               | Plain Text|\n",
    "| APR DRG Description                | The APR - DRG Classification Code Description In Calendar Year 2011, Version 28 of the APR - DRG Grouper. [http://www.health.ny.gov/statistics/sparcs/sysdoc/appy.htm](http://www.health.ny.gov/statistics/sparcs/sysdoc/appy.htm)                                       | Plain Text|\n",
    "| APR MDC Code                       | All Patient Refined Major Diagnostic Category (APR MDC) Code . APR - DRG Codes 001 - 006 and 950 - 956 may group to more than one MDC Code. All other APR DRGs group to one MDC category.                                                        | Plain Text|\n",
    "| APR MDC Description                | All Patient Refined Major Diagnostic Category (APR MDC) Description .                                                                                                                                                                           | Plain Text|\n",
    "| APR Severity of Illness Code       | The APR-DRG Severity of Illness Code: 1, 2, 3, 4                                                                                                                                                                                               | Plain Text|\n",
    "| APR Severity of Illness Description| All Patient Refined Severity of Illness (APR SOI) Description. Minor (1), Moderate (2), Major (3) , Extreme (4)                                                                                                                                 | Plain Text|\n",
    "| APR Risk of Mortality              | All Patient Refined Risk of Mortality (APR ROM). Minor (1), Moderate (2), Major (3) , Extreme (4)                                                                                                                                               | Plain Text|\n",
    "| APR Medical Surgical Description   | The APR - DRG specific classification of Medical, Surgical or Not Applicable.                                                                                                                                                                  | Plain Text|\n",
    "| Source of Payment 1                | A description of the type of payment for this occurrence.                                                                                                                                                                                       | Plain Text|\n",
    "| Source of Payment 2                | A description of the type of payment for this occurrence.                                                                                                                                                                                       | Plain Text|\n",
    "| Source of Payment 3                | A description of the type of payment for this occurrence.                                                                                                                                                                                       | Plain Text|\n",
    "| Birth Weight                       | The neonate birth weight in grams; rounded to nearest 100g.                                                                                                                                                                                     | Number    |\n",
    "| Abortion Edit Indicator            | A flag to indicate if the discharge record contains any indication of abortion (\"N\" = No; \"Y\" = Yes).                                                                                                                                           | Plain Text|\n",
    "| Emergency Department Indicator     | Type is Char. Length is 1. The Emergency Department Indicator is set based on the submitted revenue codes. If the record contained an Emergency Department revenue code of 045X, the indicator is set to \"Y\", otherwise it will be “N”.           | Plain Text|\n",
    "| Total Charges                      | Total charges for the discharge.                                                                                                                                                                                                               | Number    |\n",
    "| Total Costs                        | Total estimated cost for the discharge.                                                                                                                                                                                                        | Number    |\n"
   ]
  },
  {
   "cell_type": "markdown",
   "id": "63d57284-2b58-4026-93c5-e7ee36a84812",
   "metadata": {},
   "source": [
    "## 2021"
   ]
  },
  {
   "cell_type": "markdown",
   "id": "59337d6b-b6ed-4d1a-8f72-d88adbf2ec49",
   "metadata": {},
   "source": [
    "| Column Name                       | Description                                                                                                                      | Type     |\n",
    "|----------------------------------|----------------------------------------------------------------------------------------------------------------------------------|----------|\n",
    "| Hospital Service Area            | A description of the Health Service Area (HSA) in which the hospital is located. Blank for enhanced de-identification records.   | Plain Text |\n",
    "| Hospital County                  | A description of the county in which the hospital is located. Blank for records with enhanced de-identification.                  | Plain Text |\n",
    "| Operating Certificate Number     | The facility Operating Certificate Number as assigned by NYS Department of Health. Blank for records with enhanced de-identification. | Plain Text |\n",
    "| Permanent Facility Id            | Permanent Facility Identifier. Blank for records with enhanced de-identification.                                                | Plain Text |\n",
    "| Facility Name                    | The name of the facility where services were performed based on the Permanent Facility Identifier (PFI), as maintained by the NYSDOH Division of Health Facility Planning. For records with enhanced de-identification, ‘Redacted for Confidentiality’ appears. | Plain Text |\n",
    "| Age Group                        | Age in years at time of discharge. Grouped into the following age groups: 0 to 17, 18 to 29, 30 to 49, 50 to 69, and 70 or Older. | Plain Text |\n",
    "| Zip Code - 3 digits              | The first three digits of the patient's zip code.                                                                                | Plain Text |\n",
    "| Gender                           | Patient gender.                                                                                                                  | Plain Text |\n",
    "| Race                             | Patient race.                                                                                                                    | Plain Text |\n",
    "| Ethnicity                        | Patient ethnicity.                                                                                                               | Plain Text |\n",
    "| Length of Stay                   | The total number of patient days at an acute level and/or other than acute care level (excluding leave of absence days).          | Plain Text |\n",
    "| Type of Admission                | A description of the manner in which the patient was admitted to the health care facility.                                       | Plain Text |\n",
    "| Patient Disposition              | The patient's destination or status upon discharge.                                                                              | Plain Text |\n",
    "| Discharge Year                   | The year (CCYY) of discharge.                                                                                                    | Plain Text |\n",
    "| CCSR Diagnosis Code              | AHRQ Clinical Classification Software Refined (CCSR) Diagnosis Category Code.                                                    | Plain Text |\n",
    "| CCSR Diagnosis Description       | AHRQ Clinical Classification Software Refined (CCSR) Diagnosis Category Description.                                             | Plain Text |\n",
    "| CCSR Procedure Code              | AHRQ Clinical Classification Software Refined (CCSR) ICD-10 Procedure Category Code.                                             | Plain Text |\n",
    "| CCSR Procedure Description       | AHRQ Clinical Classification Software Refined (CCSR) ICD-10 Procedure Category Description.                                      | Plain Text |\n",
    "| APR DRG Code                     | The All Patients Refined Diagnosis Related Groups (APR-DRG) Classification Code.                                                 | Plain Text |\n",
    "| APR DRG Description              | The APR-DRG Classification Code Description in Calendar Year 2021, Version 38 of the APR- DRG Grouper.                           | Plain Text |\n",
    "| APR MDC Code                     | All Patient Refined Major Diagnostic Category (APR MDC) Code. APR-DRG Codes 001-006 and 950-956 may group to more than one MDC Code. | Plain Text |\n",
    "| APR MDC Description              | All Patient Refined Major Diagnostic Category (APR MDC) Description.                                                             | Plain Text |\n",
    "| APR Severity of Illness Code     | The APR-DRG Severity of Illness Code: 0, 1, 2, 3, 4                                                                              | Plain Text |\n",
    "| APR Severity of Illness Description | All Patient Refined Severity of Illness (APR SOI) Description.                                                                   | Plain Text |\n",
    "| APR Risk of Mortality            | All Patient Refined Risk of Mortality (APR ROM) Description.                                                                     | Plain Text |\n",
    "| APR Medical Surgical Description | The APR-DRG specific classification of Medical, Surgical or Not Applicable.                                                      | Plain Text |\n",
    "| Payment Typology 1               | A description of the type of payment for this occurrence.                                                                        | Plain Text |\n",
    "| Payment Typology 2               | A description of the type of payment for this occurrence.                                                                        | Plain Text |\n",
    "| Payment Typology 3               | A description of the type of payment for this occurrence.                                                                        | Plain Text |\n",
    "| Birth Weight                     | The neonate birth weight in grams; rounded to nearest 100 g.                                                                     | Plain Text |\n",
    "| Emergency Department Indicator   | The Emergency Department Indicator is set based on the submitted revenue codes. If the record contained an Emergency Department revenue code of 045X, the indicator is set to \"Y\", otherwise it will be “N”. | Plain Text |\n",
    "| Total Charges                    | Total charges for the discharge.                                                                                                 | Number   |\n",
    "| Total Costs                      | Total estimated cost for the discharge.                                                                                          | Number   |\n"
   ]
  },
  {
   "cell_type": "markdown",
   "id": "b4c839f9-7efd-443c-bacb-02cbc9334a25",
   "metadata": {},
   "source": [
    "# Read Data (2009-2021)"
   ]
  },
  {
   "cell_type": "code",
   "execution_count": 2,
   "id": "bd3c32e7-cf7b-49bb-a06b-f23cd1f63cc8",
   "metadata": {},
   "outputs": [
    {
     "name": "stdout",
     "output_type": "stream",
     "text": [
      "CPU times: total: 11.7 s\n",
      "Wall time: 11.8 s\n"
     ]
    }
   ],
   "source": [
    "%%time \n",
    "\n",
    "path = \"data/\"\n",
    "start_year = 2009\n",
    "end_year = 2009\n",
    "dataframes = {}\n",
    "\n",
    "# Loop through each year and read the CSV\n",
    "for year in range(start_year, end_year + 1):\n",
    "    csv_name = f\"{path}Hospital_Inpatient_Discharges__SPARCS_De-Identified___{year}.csv\"\n",
    "    dataframes[f\"df_{year}\"] = pd.read_csv(csv_name, low_memory=False)"
   ]
  },
  {
   "cell_type": "code",
   "execution_count": 3,
   "id": "0592339d-18eb-44a6-a676-cd6a03cadda2",
   "metadata": {},
   "outputs": [],
   "source": [
    "def detailed_comparison(dataframes, reference_key):\n",
    "    reference_df = dataframes[reference_key]\n",
    "    differences = {}\n",
    "    \n",
    "    for key, df in dataframes.items():\n",
    "        if key == reference_key:\n",
    "            continue  # Skip comparing the reference dataframe with itself\n",
    "\n",
    "        current_diff = {}\n",
    "        \n",
    "        # Checking for missing or additional columns\n",
    "        missing_columns = reference_df.columns.difference(df.columns).tolist()\n",
    "        additional_columns = df.columns.difference(reference_df.columns).tolist()\n",
    "\n",
    "        if missing_columns:\n",
    "            current_diff['missing'] = missing_columns\n",
    "        if additional_columns:\n",
    "            current_diff['additional'] = additional_columns\n",
    "\n",
    "        # Checking for data type differences for columns that are present in both\n",
    "        shared_columns = df.columns.intersection(reference_df.columns)\n",
    "        dtype_diff = {col: (str(df[col].dtype), str(reference_df[col].dtype)) \n",
    "                      for col in shared_columns \n",
    "                      if df[col].dtype != reference_df[col].dtype}\n",
    "\n",
    "        if dtype_diff:\n",
    "            current_diff['dtype_mismatch'] = dtype_diff\n",
    "\n",
    "        if current_diff:\n",
    "            differences[key] = current_diff\n",
    "    \n",
    "    return differences"
   ]
  },
  {
   "cell_type": "markdown",
   "id": "02e303a3-e517-4199-a6ab-e9e4e8a6bf70",
   "metadata": {},
   "source": [
    "Using the most recent data from 2021 as a reference, we will compare the differences in data (columns and dtypes)."
   ]
  },
  {
   "cell_type": "raw",
   "id": "6c55673c-39eb-4ac8-bb26-e4b2c1e70754",
   "metadata": {},
   "source": [
    "reference_key = \"df_2021\"\n",
    "differences = detailed_comparison(dataframes, reference_key)  # call the function and store the result in 'differences'\n",
    "\n",
    "for df_name, diff in differences.items():\n",
    "    display(HTML(f\"<strong>Differences for {df_name}:</strong>\"))\n",
    "    for category, details in diff.items():\n",
    "        if category == 'missing':\n",
    "            display(HTML(f\"<strong>Missing columns</strong> compared to {reference_key}: {', '.join(details)}\"))\n",
    "        elif category == 'additional':\n",
    "            display(HTML(f\"<strong>Additional columns</strong> compared to {reference_key}: {', '.join(details)}\"))\n",
    "        elif category == 'dtype_mismatch':\n",
    "            display(HTML(\"Data type mismatches:\"))\n",
    "            for col, dtypes in details.items():\n",
    "                display(HTML(f\"{col}: {df_name} has {dtypes[0]} but {reference_key} has {dtypes[1]}\"))\n",
    "    display(HTML(\"<br>\"))  # for a new line between dataframes"
   ]
  },
  {
   "cell_type": "markdown",
   "id": "82a87239-ee1a-405a-b048-1a829973ad45",
   "metadata": {},
   "source": [
    "# Renaming"
   ]
  },
  {
   "cell_type": "markdown",
   "id": "c9af3672-9b0d-425e-9f9c-e5c2b9852d61",
   "metadata": {},
   "source": [
    "A lot of the mismatches are due to naming differences, so we rename all the dfs to match the 2021 naming convention. "
   ]
  },
  {
   "cell_type": "code",
   "execution_count": 5,
   "id": "7fa6ed36-8493-4662-a77e-f8b5629171d5",
   "metadata": {},
   "outputs": [],
   "source": [
    "def rename_payment_columns(dataframes):\n",
    "    '''\n",
    "    \"Facility Id\" is the column name for df_2015 and df_2016\n",
    "    '''\n",
    "    rename_mapping = {\n",
    "        \"CCS Diagnosis Code\": \"CCSR Diagnosis Code\", \n",
    "        \"CCS Diagnosis Description\": \"CCSR Diagnosis Description\", \n",
    "        \"CCS Procedure Code\": \"CCSR Procedure Code\", \n",
    "        \"CCS Procedure Description\": \"CCSR Procedure Description\",\n",
    "        \"Health Service Area\": \"Hospital Service Area\",\n",
    "        \"Source of Payment 1\": \"Payment Typology 1\",\n",
    "        \"Source of Payment 2\": \"Payment Typology 2\",\n",
    "        \"Source of Payment 3\": \"Payment Typology 3\", \n",
    "        \"Facility ID\": \"Permanent Facility Id\", \n",
    "        \"Facility Id\": \"Permanent Facility Id\"\n",
    "    }\n",
    "\n",
    "    for df_name, df in dataframes.items():\n",
    "        dataframes[df_name] = df.rename(columns=rename_mapping)\n",
    "\n",
    "    return dataframes\n",
    "\n",
    "dataframes = rename_payment_columns(dataframes)"
   ]
  },
  {
   "cell_type": "markdown",
   "id": "ccf6ee81-e15a-4620-944b-44ecfbd15744",
   "metadata": {},
   "source": [
    "# Dropping Irrelevant Data"
   ]
  },
  {
   "cell_type": "markdown",
   "id": "9a226cc3-9f4c-48fe-9245-c089e9ea289e",
   "metadata": {
    "tags": []
   },
   "source": [
    "- **'Abortion Edit Indicator'** (not available for years 2018 - 2021) \n",
    "- **'Permanent Facility Id'** (redundant data: Location data provided by Hospital Service Area and Hospital County)\n",
    "- **'Discharge Year'** (redundant data: constant value across all discharges per data frame)\n",
    "- **'Payment Typology 2'** (high null percentage)\n",
    "- **'Payment Typology 3'** (high null percentage)\n",
    "- **'Birth Weight'** (high null percentage)\n",
    "- **'Zip Code - 3 digits'** (only provides the first three digits of the patient's zip code)\n",
    "- **'APR DRG Code'**, (CCSR codes are provided instead)\n",
    "- **'APR MDC Code'**, (CCSR codes are provided instead)\n",
    "- **'CCSR Diagnosis Description'** (description data not needed, codes are provided instead)\n",
    "- **'CCSR Procedure Description'** (description data not needed, codes are provided instead)\n",
    "- **'APR DRG Description'** (description data not needed, codes are provided instead)\n",
    "- **'APR MDC Description'** (description data not needed, codes are provided instead)\n",
    "- **'APR Severity of Illness Description'** (description data not needed, codes are provided instead)\n",
    "- **'APR Medical Surgical Description'** (description data not needed, codes are provided instead)\n",
    "- **'Emergency Department Indicator'** (type of admission covers this column) <br>\n",
    "<br>\n",
    "Dropping: <br>\n",
    "- **'Facility Name'** (Difficult to distinguish geographical info from using hamiltonian Path) <br>\n",
    "keeping: <br>\n",
    "- **'Facility Name'** "
   ]
  },
  {
   "cell_type": "code",
   "execution_count": 6,
   "id": "1c7526e1-c4b4-4844-95e9-ab694ea6f5a8",
   "metadata": {},
   "outputs": [],
   "source": [
    "columns_to_drop = [\"Abortion Edit Indicator\", \n",
    "                   \"Permanent Facility Id\",\n",
    "                   \"Discharge Year\",\n",
    "                   \"Payment Typology 2\",\n",
    "                   \"Payment Typology 3\",\n",
    "                   \"Birth Weight\",\n",
    "                   'Zip Code - 3 digits',\n",
    "                   'APR DRG Code',\n",
    "                   'APR MDC Code',\n",
    "                   'CCSR Diagnosis Description',\n",
    "                   'CCSR Procedure Description',\n",
    "                   'APR DRG Description',\n",
    "                   'APR MDC Description',\n",
    "                   'APR Severity of Illness Description',\n",
    "                   'APR Medical Surgical Description',\n",
    "                   'Emergency Department Indicator',\n",
    "                   'Facility Name']            \n",
    "\n",
    "# Loop through each dataframe in the dictionary and drop the specified columns\n",
    "for year, df in dataframes.items():\n",
    "    # Using errors='ignore' to avoid errors if a column does not exist in the dataframe\n",
    "    dataframes[year] = df.drop(columns=columns_to_drop, errors='ignore') "
   ]
  },
  {
   "cell_type": "markdown",
   "id": "bc273ea9-80c2-4188-8ee5-bb11f44cf53e",
   "metadata": {},
   "source": [
    "# ICD9 to ICD10 Conversion"
   ]
  },
  {
   "cell_type": "markdown",
   "id": "da91b48c-46f5-421a-8334-387247803078",
   "metadata": {},
   "source": [
    "From 2009 to 2017 'CCSR Diagnosis Code' and 'CCSR Procedure Code' use ICD9 codes, while from 2018 onwards ICD10 codes are used. A General Equivalence Mappings (GEM) is used to convert ICD9 codes to ICD10 codes. "
   ]
  },
  {
   "cell_type": "code",
   "execution_count": 7,
   "id": "cbb901da-34f6-4961-8874-dcc9474854d5",
   "metadata": {},
   "outputs": [
    {
     "data": {
      "text/html": [
       "<div>\n",
       "<style scoped>\n",
       "    .dataframe tbody tr th:only-of-type {\n",
       "        vertical-align: middle;\n",
       "    }\n",
       "\n",
       "    .dataframe tbody tr th {\n",
       "        vertical-align: top;\n",
       "    }\n",
       "\n",
       "    .dataframe thead th {\n",
       "        text-align: right;\n",
       "    }\n",
       "</style>\n",
       "<table border=\"1\" class=\"dataframe\">\n",
       "  <thead>\n",
       "    <tr style=\"text-align: right;\">\n",
       "      <th></th>\n",
       "      <th>ICD9</th>\n",
       "      <th>ICD10</th>\n",
       "      <th>Flag</th>\n",
       "    </tr>\n",
       "  </thead>\n",
       "  <tbody>\n",
       "    <tr>\n",
       "      <th>0</th>\n",
       "      <td>0010</td>\n",
       "      <td>A000</td>\n",
       "      <td>0</td>\n",
       "    </tr>\n",
       "    <tr>\n",
       "      <th>1</th>\n",
       "      <td>0011</td>\n",
       "      <td>A001</td>\n",
       "      <td>0</td>\n",
       "    </tr>\n",
       "    <tr>\n",
       "      <th>2</th>\n",
       "      <td>0019</td>\n",
       "      <td>A009</td>\n",
       "      <td>0</td>\n",
       "    </tr>\n",
       "    <tr>\n",
       "      <th>3</th>\n",
       "      <td>0020</td>\n",
       "      <td>A0100</td>\n",
       "      <td>10000</td>\n",
       "    </tr>\n",
       "    <tr>\n",
       "      <th>4</th>\n",
       "      <td>0021</td>\n",
       "      <td>A011</td>\n",
       "      <td>0</td>\n",
       "    </tr>\n",
       "    <tr>\n",
       "      <th>...</th>\n",
       "      <td>...</td>\n",
       "      <td>...</td>\n",
       "      <td>...</td>\n",
       "    </tr>\n",
       "    <tr>\n",
       "      <th>24855</th>\n",
       "      <td>V9129</td>\n",
       "      <td>O30299</td>\n",
       "      <td>10000</td>\n",
       "    </tr>\n",
       "    <tr>\n",
       "      <th>24856</th>\n",
       "      <td>V9190</td>\n",
       "      <td>O30809</td>\n",
       "      <td>10000</td>\n",
       "    </tr>\n",
       "    <tr>\n",
       "      <th>24857</th>\n",
       "      <td>V9191</td>\n",
       "      <td>O30819</td>\n",
       "      <td>10000</td>\n",
       "    </tr>\n",
       "    <tr>\n",
       "      <th>24858</th>\n",
       "      <td>V9192</td>\n",
       "      <td>O30829</td>\n",
       "      <td>10000</td>\n",
       "    </tr>\n",
       "    <tr>\n",
       "      <th>24859</th>\n",
       "      <td>V9199</td>\n",
       "      <td>O30899</td>\n",
       "      <td>10000</td>\n",
       "    </tr>\n",
       "  </tbody>\n",
       "</table>\n",
       "<p>24860 rows × 3 columns</p>\n",
       "</div>"
      ],
      "text/plain": [
       "        ICD9   ICD10   Flag\n",
       "0       0010    A000      0\n",
       "1       0011    A001      0\n",
       "2       0019    A009      0\n",
       "3       0020   A0100  10000\n",
       "4       0021    A011      0\n",
       "...      ...     ...    ...\n",
       "24855  V9129  O30299  10000\n",
       "24856  V9190  O30809  10000\n",
       "24857  V9191  O30819  10000\n",
       "24858  V9192  O30829  10000\n",
       "24859  V9199  O30899  10000\n",
       "\n",
       "[24860 rows x 3 columns]"
      ]
     },
     "execution_count": 7,
     "metadata": {},
     "output_type": "execute_result"
    }
   ],
   "source": [
    "# Read the file using regex as separator\n",
    "gem_df = pd.read_csv('2018_I9gem.txt', sep='\\s+', header=None)\n",
    "\n",
    "# Assign column names\n",
    "gem_df.columns = ['ICD9', 'ICD10', 'Flag']\n",
    "\n",
    "# Display the DataFrame\n",
    "gem_df"
   ]
  },
  {
   "cell_type": "code",
   "execution_count": 8,
   "id": "39ed0a09-4104-4a22-b74a-2d77ee85ca08",
   "metadata": {},
   "outputs": [],
   "source": [
    "def process_i9_codes(df):\n",
    "\n",
    "    # Convert the float columns to strings with 1 decimal\n",
    "    df['CCSR Diagnosis Code'] = df['CCSR Diagnosis Code'].apply(lambda x: \"{:.1f}\".format(x))\n",
    "    df['CCSR Procedure Code'] = df['CCSR Procedure Code'].apply(lambda x: \"{:.1f}\".format(x))\n",
    "\n",
    "    # Remove the decimal to match ICD9 format\n",
    "    df['CCSR Diagnosis Code'] = df['CCSR Diagnosis Code'].str.replace('.', '')\n",
    "    df['CCSR Procedure Code'] = df['CCSR Procedure Code'].str.replace('.', '')\n",
    "\n",
    "    # Add leading zeros to have at least 4 digits\n",
    "    df['CCSR Diagnosis Code'] = df['CCSR Diagnosis Code'].apply(lambda x: x.zfill(4))\n",
    "    df['CCSR Procedure Code'] = df['CCSR Procedure Code'].apply(lambda x: x.zfill(4))\n",
    "    \n",
    "    return df \n",
    "\n",
    "def map_i9_to_i10(df, gem_df):\n",
    "    # Create mapping dictionaries from gem_df\n",
    "    icd9_to_icd10_diagnosis = dict(zip(gem_df['ICD9'], gem_df['ICD10']))\n",
    "\n",
    "    # Replace the codes in the original DataFrame using the mapping dictionaries\n",
    "    # Replace non-matching codes with NaN\n",
    "    df['CCSR Diagnosis Code'] = df['CCSR Diagnosis Code'].map(icd9_to_icd10_diagnosis, na_action='ignore')\n",
    "    df['CCSR Procedure Code'] = df['CCSR Procedure Code'].map(icd9_to_icd10_diagnosis, na_action='ignore')\n",
    "\n",
    "    # Count rows with NaN values in each column\n",
    "    count_diagnosis_na = df['CCSR Diagnosis Code'].isnull().sum()\n",
    "    count_procedure_na = df['CCSR Procedure Code'].isnull().sum()\n",
    "\n",
    "    # Drop rows with NaN values\n",
    "    df.dropna(subset=['CCSR Diagnosis Code', 'CCSR Procedure Code'], inplace=True)\n",
    "\n",
    "    print(f\"Dropped {count_diagnosis_na} rows from 'CCSR Diagnosis Code' and {count_procedure_na} from 'CCSR Procedure Code'\")\n",
    "    \n",
    "    return df \n",
    "\n",
    "def process_df(df, gem_df):\n",
    "    df = process_i9_codes(df)\n",
    "    df = map_i9_to_i10(df, gem_df)\n",
    "    return df"
   ]
  },
  {
   "cell_type": "code",
   "execution_count": 9,
   "id": "bf25b804-21c5-421a-bb61-c13d2390124e",
   "metadata": {},
   "outputs": [
    {
     "name": "stdout",
     "output_type": "stream",
     "text": [
      "Processing ICD9 to ICD10 conversion for df_2009.\n",
      "Dropped 948814 rows from 'CCSR Diagnosis Code' and 1361092 from 'CCSR Procedure Code'\n"
     ]
    }
   ],
   "source": [
    "# Year when ICD10 was adopted\n",
    "icd10_start_year = 2018  \n",
    "\n",
    "# Iterate through dictionary\n",
    "for key, df in dataframes.items():\n",
    "    year = int(key.split('_')[1])  # Extract year from the key\n",
    "\n",
    "    # Conditionally apply the process based on the year\n",
    "    if year < icd10_start_year:\n",
    "        print(f\"Processing ICD9 to ICD10 conversion for {key}.\")\n",
    "        dataframes[key] = process_df(df, gem_df)\n",
    "    else:\n",
    "        print(f\"{key} already contains ICD10 codes. No conversion needed.\")\n",
    "\n",
    "# Now, data_frames dictionary has updated DataFrames"
   ]
  },
  {
   "cell_type": "markdown",
   "id": "f341881a-68fb-4fd6-b709-85dfafce49c5",
   "metadata": {},
   "source": [
    "# Dropping Missing Values"
   ]
  },
  {
   "cell_type": "code",
   "execution_count": 11,
   "id": "0398afcf-2059-421e-a293-3d1ac8895ef2",
   "metadata": {},
   "outputs": [
    {
     "name": "stdout",
     "output_type": "stream",
     "text": [
      "Column: Hospital Service Area\n",
      "  Null Percentage: 0.029162394219126496%\n",
      "  Null Type: NaN\n",
      "  Null Value: nan\n",
      "Column: Hospital County\n",
      "  Null Percentage: 0.029162394219126496%\n",
      "  Null Type: NaN\n",
      "  Null Value: nan\n",
      "Column: Operating Certificate Number\n",
      "  Null Percentage: 0.029162394219126496%\n",
      "  Null Type: NaN\n",
      "  Null Value: nan\n",
      "Column: Age Group\n",
      "  Null Percentage: 0.0%\n",
      "  Null Type: None\n",
      "  Null Value: None\n",
      "Column: Gender\n",
      "  Null Percentage: 0.0%\n",
      "  Null Type: None\n",
      "  Null Value: None\n",
      "Column: Race\n",
      "  Null Percentage: 0.0%\n",
      "  Null Type: None\n",
      "  Null Value: None\n",
      "Column: Ethnicity\n",
      "  Null Percentage: 0.0%\n",
      "  Null Type: None\n",
      "  Null Value: None\n",
      "Column: Length of Stay\n",
      "  Null Percentage: 0.0%\n",
      "  Null Type: None\n",
      "  Null Value: None\n",
      "Column: Type of Admission\n",
      "  Null Percentage: 0.0%\n",
      "  Null Type: None\n",
      "  Null Value: None\n",
      "Column: Patient Disposition\n",
      "  Null Percentage: 0.010213557422366884%\n",
      "  Null Type: NaN\n",
      "  Null Value: nan\n",
      "Column: CCSR Diagnosis Code\n",
      "  Null Percentage: 0.0%\n",
      "  Null Type: None\n",
      "  Null Value: None\n",
      "Column: CCSR Procedure Code\n",
      "  Null Percentage: 0.0%\n",
      "  Null Type: None\n",
      "  Null Value: None\n",
      "Column: APR Severity of Illness Code\n",
      "  Null Percentage: 0.0%\n",
      "  Null Type: None\n",
      "  Null Value: None\n",
      "Column: APR Risk of Mortality\n",
      "  Null Percentage: 0.005106778711183442%\n",
      "  Null Type: NaN\n",
      "  Null Value: nan\n",
      "Column: Payment Typology 1\n",
      "  Null Percentage: 0.0%\n",
      "  Null Type: None\n",
      "  Null Value: None\n",
      "Column: Total Charges\n",
      "  Null Percentage: 0.0%\n",
      "  Null Type: None\n",
      "  Null Value: None\n",
      "Column: Total Costs\n",
      "  Null Percentage: 0.0%\n",
      "  Null Type: None\n",
      "  Null Value: None\n"
     ]
    }
   ],
   "source": [
    "def analyze_null_values(df):\n",
    "    null_stats = {}\n",
    "    total_rows = len(df)\n",
    "    \n",
    "    for col in df.columns:\n",
    "        dtype = df[col].dtype\n",
    "        \n",
    "        # Compute null values\n",
    "        null_count = df[col].isna().sum()\n",
    "        \n",
    "        # Calculate percentage of null values\n",
    "        null_percentage = (null_count / total_rows) * 100 if total_rows > 0 else 0.0\n",
    "\n",
    "        # Assume None as a generic placeholder for null type and value\n",
    "        null_stats[col] = {\n",
    "            'null_percentage': null_percentage,\n",
    "            'null_type': None if null_count == 0 else 'NaN',\n",
    "            'null_value': None if null_count == 0 else float('nan')\n",
    "        }\n",
    "        \n",
    "    return null_stats\n",
    "\n",
    "# Replace 'dataframes['df_2021']' with your actual DataFrame\n",
    "null_stats = analyze_null_values(dataframes['df_2009'])\n",
    "\n",
    "# Display results\n",
    "for col, stats in null_stats.items():\n",
    "    print(f\"Column: {col}\")\n",
    "    print(f\"  Null Percentage: {stats['null_percentage']}%\")\n",
    "    print(f\"  Null Type: {stats['null_type']}\")\n",
    "    print(f\"  Null Value: {stats['null_value']}\")"
   ]
  },
  {
   "cell_type": "markdown",
   "id": "31244600-d623-4fb7-a882-ea98ba39bea3",
   "metadata": {},
   "source": [
    "Note: We will not drop missing values in the 'CCSR Procedure Code' column since many people go to the ER without getting a procedure done."
   ]
  },
  {
   "cell_type": "code",
   "execution_count": 12,
   "id": "547e000f-b224-4426-a71e-152f4c7348c6",
   "metadata": {},
   "outputs": [
    {
     "name": "stdout",
     "output_type": "stream",
     "text": [
      "DataFrame 'df_2009' contains no missing values.\n"
     ]
    }
   ],
   "source": [
    "def identify_missing_types(df):\n",
    "    missing_types = {}\n",
    "    null_stats = analyze_null_values(df)\n",
    "    \n",
    "    exclude_zero_cols = ['APR Severity of Illness Code', 'CCSR Procedure Code']\n",
    "    \n",
    "    for col, stats in null_stats.items():\n",
    "        if col == \"CCSR Procedure Code\":\n",
    "            continue\n",
    "        if stats['null_percentage'] > 0:\n",
    "            if col in exclude_zero_cols and stats['null_value'] == 0:\n",
    "                continue\n",
    "            missing_types[col] = stats['null_value']\n",
    "            \n",
    "    return missing_types\n",
    "\n",
    "def clean_dataframes(dataframes):\n",
    "    cleaned_dataframes = {}\n",
    "    missing_stats = {}\n",
    "    \n",
    "    for name, df in dataframes.items():\n",
    "        initial_count = len(df)\n",
    "\n",
    "        # Drop rows where 'Total Charges' or 'Total Costs' is 0.0\n",
    "        for col in ['Total Charges', 'Total Costs']:\n",
    "            if col in df.columns:\n",
    "                df = df[df[col] != 0.0]\n",
    "        \n",
    "        # Drop NaN values except in 'CCSR Procedure Code' column\n",
    "        df = df.dropna(subset=[col for col in df.columns if col != \"CCSR Procedure Code\"])\n",
    "        \n",
    "        final_count = len(df)\n",
    "        \n",
    "        missing_stats[name] = initial_count - final_count\n",
    "        cleaned_dataframes[name] = df\n",
    "    \n",
    "    return cleaned_dataframes, missing_stats\n",
    "\n",
    "def verify_no_missing_values(dataframes):\n",
    "    for name, df in dataframes.items():\n",
    "        missing_types = identify_missing_types(df)\n",
    "        \n",
    "        nan_stats = df.isna().sum()\n",
    "        nan_cols = nan_stats[nan_stats > 0].drop(\"CCSR Procedure Code\", errors='ignore')\n",
    "\n",
    "        if not missing_types and nan_cols.empty:\n",
    "            print(f\"DataFrame '{name}' contains no missing values.\")\n",
    "        else:\n",
    "            print(f\"DataFrame '{name}' still contains missing values.\")\n",
    "            for col, missing_type in missing_types.items():\n",
    "                print(f\"  - Column '{col}' contains missing values of type {missing_type}\")\n",
    "            for col in nan_cols.index:\n",
    "                print(f\"  - Column '{col}' contains {nan_cols[col]} NaN values\")\n",
    "\n",
    "dataframes, missing_stats = clean_dataframes(dataframes)\n",
    "verify_no_missing_values(dataframes)"
   ]
  },
  {
   "cell_type": "markdown",
   "id": "d356cf4a-f59d-449f-96c2-7d7014c9ab2e",
   "metadata": {},
   "source": [
    "And we convert the 'Operating Certificate Number' to int."
   ]
  },
  {
   "cell_type": "code",
   "execution_count": 13,
   "id": "52e493a5-2b39-42ae-80cd-cefc6ab2907a",
   "metadata": {},
   "outputs": [],
   "source": [
    "def convert_op_num_to_int(dataframes):\n",
    "    new_dataframes = {}\n",
    "    for year, df in dataframes.items():\n",
    "        df_copy = df.copy()\n",
    "        if 'Operating Certificate Number' in df_copy.columns:\n",
    "            df_copy.loc[:, 'Operating Certificate Number'] = df_copy['Operating Certificate Number'].astype(int)\n",
    "        new_dataframes[year] = df_copy\n",
    "    return new_dataframes\n",
    "\n",
    "dataframes = convert_op_num_to_int(dataframes)"
   ]
  },
  {
   "cell_type": "markdown",
   "id": "d85c8c89-7842-4292-b3bd-7cd76fd30b17",
   "metadata": {},
   "source": [
    "# Further Cleaning"
   ]
  },
  {
   "cell_type": "markdown",
   "id": "35861b97-3253-4f1b-8d0e-9be0a0c5ad80",
   "metadata": {},
   "source": [
    "Ensure the 'APR Severity of Illness Code' are all of type int (df_2018, and df_2019 are float)."
   ]
  },
  {
   "cell_type": "code",
   "execution_count": 14,
   "id": "dc80f338-1251-47ef-acb1-e9163c4f8990",
   "metadata": {},
   "outputs": [],
   "source": [
    "def convert_severity_to_int(dataframes):\n",
    "    for year in ['df_2018', 'df_2019']:\n",
    "        if year in dataframes and 'APR Severity of Illness Code' in dataframes[year].columns:\n",
    "            dataframes[year].dropna(subset=['APR Severity of Illness Code'], inplace=True)\n",
    "            \n",
    "            # Now convert to int\n",
    "            dataframes[year]['APR Severity of Illness Code'] = dataframes[year]['APR Severity of Illness Code'].astype(int)\n",
    "            \n",
    "    return dataframes\n",
    "\n",
    "dataframes = convert_severity_to_int(dataframes)"
   ]
  },
  {
   "cell_type": "code",
   "execution_count": 15,
   "id": "fb3b1a3e-d1b8-4bed-a935-ef333927a881",
   "metadata": {},
   "outputs": [
    {
     "name": "stdout",
     "output_type": "stream",
     "text": [
      "8 unique \"Hospital Service Area\" values\n"
     ]
    },
    {
     "data": {
      "text/plain": [
       "['New York City',\n",
       " 'Hudson Valley',\n",
       " 'Finger Lakes',\n",
       " 'Long Island',\n",
       " 'Capital/Adiron',\n",
       " 'Western NY',\n",
       " 'Central NY',\n",
       " 'Southern Tier']"
      ]
     },
     "execution_count": 15,
     "metadata": {},
     "output_type": "execute_result"
    }
   ],
   "source": [
    "def aggregate_and_find_unique(dataframes, column_name):\n",
    "    # Aggregate all data frames into a single data frame\n",
    "    aggregated_df = pd.concat(dataframes.values(), ignore_index=True)\n",
    "    \n",
    "    # Find unique values in the given column\n",
    "    unique_values = aggregated_df[column_name].unique().tolist()\n",
    "    \n",
    "    return unique_values\n",
    "\n",
    "unique_service_areas = aggregate_and_find_unique(dataframes, \"Hospital Service Area\")\n",
    "print(f'{len(unique_service_areas)} unique \"Hospital Service Area\" values')\n",
    "unique_service_areas"
   ]
  },
  {
   "cell_type": "markdown",
   "id": "48bccb04-67ae-46e3-ba59-174707f285a4",
   "metadata": {},
   "source": [
    "'Hospital Service Area' contains 'Capital/Adiron' and 'Capital/Adirond' both of which refer to the Capital/Adirondack region. So we will map 'Capital/Adirond' to 'Capital/Adiron' in the 'Hospital Service Area' column. "
   ]
  },
  {
   "cell_type": "code",
   "execution_count": 16,
   "id": "405d886d-1255-4a5f-a689-e628778a1af7",
   "metadata": {},
   "outputs": [],
   "source": [
    "for name, df in dataframes.items():\n",
    "    df['Hospital Service Area'] = df['Hospital Service Area'].replace('Capital/Adirond', 'Capital/Adiron')"
   ]
  },
  {
   "cell_type": "code",
   "execution_count": 18,
   "id": "a408754e-0e5f-4802-ac8e-303bbf1aaf2e",
   "metadata": {},
   "outputs": [],
   "source": [
    "reference_key = \"df_2009\"\n",
    "differences = detailed_comparison(dataframes, reference_key)  # call the function and store the result in 'differences'\n",
    "\n",
    "for df_name, diff in differences.items():\n",
    "    display(HTML(f\"<strong>Differences for {df_name}:</strong>\"))\n",
    "    for category, details in diff.items():\n",
    "        if category == 'missing':\n",
    "            display(HTML(f\"<strong>Missing columns</strong> compared to {reference_key}: {', '.join(details)}\"))\n",
    "        elif category == 'additional':\n",
    "            display(HTML(f\"<strong>Additional columns</strong> compared to {reference_key}: {', '.join(details)}\"))\n",
    "        elif category == 'dtype_mismatch':\n",
    "            display(HTML(\"Data type mismatches:\"))\n",
    "            for col, dtypes in details.items():\n",
    "                display(HTML(f\"{col}: {df_name} has {dtypes[0]} but {reference_key} has {dtypes[1]}\"))\n",
    "    display(HTML(\"<br>\"))  # for a new line between dataframes"
   ]
  },
  {
   "cell_type": "markdown",
   "id": "f9ae9daf-866e-491a-8913-a86150124486",
   "metadata": {},
   "source": [
    "We get an empty string! In other words, all the dataframes in the dataframes dictionary have the same columns and data types compared to df_2021. This indicates that the dataframes are aligned in terms of their structure. <br>"
   ]
  },
  {
   "cell_type": "markdown",
   "id": "04c930f9-9e94-4f5c-ba8c-13aacc6b5a02",
   "metadata": {},
   "source": [
    "# Saving"
   ]
  },
  {
   "cell_type": "code",
   "execution_count": 19,
   "id": "6268aac4-2a7d-4963-96d1-d5798211c020",
   "metadata": {},
   "outputs": [],
   "source": [
    "def save_dataframes_to_parquet(dataframes, file_path='data.parquet'):\n",
    "    # Merge all the dataframes into one dataframe\n",
    "    combined_df = pd.concat(dataframes.values(), keys=dataframes.keys())\n",
    "    \n",
    "    # Save the combined dataframe to a Parquet file using pyarrow as engine\n",
    "    combined_df.to_parquet(file_path, compression='snappy', index=True, engine='pyarrow')\n",
    "\n",
    "# Usage:\n",
    "save_dataframes_to_parquet(dataframes)\n",
    "# or specify a different file path\n",
    "save_dataframes_to_parquet(dataframes, file_path='clean-data.parquet')"
   ]
  },
  {
   "cell_type": "code",
   "execution_count": null,
   "id": "3684ce91-0274-4c1c-abd1-770b3e32923b",
   "metadata": {},
   "outputs": [],
   "source": []
  }
 ],
 "metadata": {
  "kernelspec": {
   "display_name": "Python 3 (ipykernel)",
   "language": "python",
   "name": "python3"
  },
  "language_info": {
   "codemirror_mode": {
    "name": "ipython",
    "version": 3
   },
   "file_extension": ".py",
   "mimetype": "text/x-python",
   "name": "python",
   "nbconvert_exporter": "python",
   "pygments_lexer": "ipython3",
   "version": "3.11.5"
  }
 },
 "nbformat": 4,
 "nbformat_minor": 5
}
